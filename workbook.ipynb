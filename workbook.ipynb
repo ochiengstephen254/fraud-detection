{
 "cells": [
  {
   "cell_type": "code",
   "execution_count": 1,
   "metadata": {},
   "outputs": [],
   "source": [
    "import pandas as pd\n",
    "import numpy as np\n",
    "import matplotlib.pyplot as plt\n",
    "import plotly.express as px\n",
    "import seaborn as sns\n",
    "from glob import glob\n",
    "import os"
   ]
  },
  {
   "cell_type": "markdown",
   "metadata": {},
   "source": [
    "## Data Exploration"
   ]
  },
  {
   "cell_type": "code",
   "execution_count": 2,
   "metadata": {},
   "outputs": [
    {
     "name": "stdout",
     "output_type": "stream",
     "text": [
      "account_activity.csv\n",
      "amount_data.csv\n",
      "anomaly_scores.csv\n",
      "customer_data.csv\n",
      "fraud_indicators.csv\n",
      "merchant_data.csv\n",
      "suspicious_activity.csv\n",
      "transaction_category_labels.csv\n",
      "transaction_metadata.csv\n",
      "transaction_records.csv\n"
     ]
    }
   ],
   "source": [
    "#loading the dataset\n",
    "data=glob(\"*.csv\")\n",
    "for data in data:\n",
    "    print(data)\n"
   ]
  },
  {
   "cell_type": "code",
   "execution_count": 3,
   "metadata": {},
   "outputs": [],
   "source": [
    "#reading the account_activity dataset\n",
    "def reading_datasets(dataset_name):\n",
    "    dataset_name=pd.read_csv(dataset_name)\n",
    "    print(f\"The dataframe contains:{dataset_name.shape[0]} rows and {dataset_name.shape[1]} columns\")\n",
    "    print(f\"the dataset columns are:{dataset_name.columns.to_list()}\")\n",
    "    return dataset_name\n",
    "    "
   ]
  },
  {
   "cell_type": "code",
   "execution_count": 5,
   "metadata": {},
   "outputs": [
    {
     "name": "stdout",
     "output_type": "stream",
     "text": [
      "The dataframe contains:1000 rows and 3 columns\n",
      "the dataset columns are:['CustomerID', 'AccountBalance', 'LastLogin']\n"
     ]
    },
    {
     "data": {
      "text/html": [
       "<div>\n",
       "<style scoped>\n",
       "    .dataframe tbody tr th:only-of-type {\n",
       "        vertical-align: middle;\n",
       "    }\n",
       "\n",
       "    .dataframe tbody tr th {\n",
       "        vertical-align: top;\n",
       "    }\n",
       "\n",
       "    .dataframe thead th {\n",
       "        text-align: right;\n",
       "    }\n",
       "</style>\n",
       "<table border=\"1\" class=\"dataframe\">\n",
       "  <thead>\n",
       "    <tr style=\"text-align: right;\">\n",
       "      <th></th>\n",
       "      <th>CustomerID</th>\n",
       "      <th>AccountBalance</th>\n",
       "      <th>LastLogin</th>\n",
       "    </tr>\n",
       "  </thead>\n",
       "  <tbody>\n",
       "    <tr>\n",
       "      <th>0</th>\n",
       "      <td>1001</td>\n",
       "      <td>9507.272060</td>\n",
       "      <td>2022-01-01</td>\n",
       "    </tr>\n",
       "    <tr>\n",
       "      <th>1</th>\n",
       "      <td>1002</td>\n",
       "      <td>7408.704536</td>\n",
       "      <td>2022-01-02</td>\n",
       "    </tr>\n",
       "    <tr>\n",
       "      <th>2</th>\n",
       "      <td>1003</td>\n",
       "      <td>1715.321989</td>\n",
       "      <td>2022-01-03</td>\n",
       "    </tr>\n",
       "    <tr>\n",
       "      <th>3</th>\n",
       "      <td>1004</td>\n",
       "      <td>3101.509134</td>\n",
       "      <td>2022-01-04</td>\n",
       "    </tr>\n",
       "    <tr>\n",
       "      <th>4</th>\n",
       "      <td>1005</td>\n",
       "      <td>5405.766914</td>\n",
       "      <td>2022-01-05</td>\n",
       "    </tr>\n",
       "    <tr>\n",
       "      <th>...</th>\n",
       "      <td>...</td>\n",
       "      <td>...</td>\n",
       "      <td>...</td>\n",
       "    </tr>\n",
       "    <tr>\n",
       "      <th>995</th>\n",
       "      <td>1996</td>\n",
       "      <td>8523.485163</td>\n",
       "      <td>2024-09-22</td>\n",
       "    </tr>\n",
       "    <tr>\n",
       "      <th>996</th>\n",
       "      <td>1997</td>\n",
       "      <td>9255.451757</td>\n",
       "      <td>2024-09-23</td>\n",
       "    </tr>\n",
       "    <tr>\n",
       "      <th>997</th>\n",
       "      <td>1998</td>\n",
       "      <td>9148.652759</td>\n",
       "      <td>2024-09-24</td>\n",
       "    </tr>\n",
       "    <tr>\n",
       "      <th>998</th>\n",
       "      <td>1999</td>\n",
       "      <td>7376.854107</td>\n",
       "      <td>2024-09-25</td>\n",
       "    </tr>\n",
       "    <tr>\n",
       "      <th>999</th>\n",
       "      <td>2000</td>\n",
       "      <td>4853.024380</td>\n",
       "      <td>2024-09-26</td>\n",
       "    </tr>\n",
       "  </tbody>\n",
       "</table>\n",
       "<p>1000 rows × 3 columns</p>\n",
       "</div>"
      ],
      "text/plain": [
       "     CustomerID  AccountBalance   LastLogin\n",
       "0          1001     9507.272060  2022-01-01\n",
       "1          1002     7408.704536  2022-01-02\n",
       "2          1003     1715.321989  2022-01-03\n",
       "3          1004     3101.509134  2022-01-04\n",
       "4          1005     5405.766914  2022-01-05\n",
       "..          ...             ...         ...\n",
       "995        1996     8523.485163  2024-09-22\n",
       "996        1997     9255.451757  2024-09-23\n",
       "997        1998     9148.652759  2024-09-24\n",
       "998        1999     7376.854107  2024-09-25\n",
       "999        2000     4853.024380  2024-09-26\n",
       "\n",
       "[1000 rows x 3 columns]"
      ]
     },
     "execution_count": 5,
     "metadata": {},
     "output_type": "execute_result"
    }
   ],
   "source": [
    "account_activity=reading_datasets(\"account_activity.csv\")\n",
    "account_activity"
   ]
  },
  {
   "cell_type": "code",
   "execution_count": 6,
   "metadata": {},
   "outputs": [
    {
     "name": "stdout",
     "output_type": "stream",
     "text": [
      "The dataframe contains:1000 rows and 2 columns\n",
      "the dataset columns are:['TransactionID', 'TransactionAmount']\n"
     ]
    },
    {
     "data": {
      "text/html": [
       "<div>\n",
       "<style scoped>\n",
       "    .dataframe tbody tr th:only-of-type {\n",
       "        vertical-align: middle;\n",
       "    }\n",
       "\n",
       "    .dataframe tbody tr th {\n",
       "        vertical-align: top;\n",
       "    }\n",
       "\n",
       "    .dataframe thead th {\n",
       "        text-align: right;\n",
       "    }\n",
       "</style>\n",
       "<table border=\"1\" class=\"dataframe\">\n",
       "  <thead>\n",
       "    <tr style=\"text-align: right;\">\n",
       "      <th></th>\n",
       "      <th>TransactionID</th>\n",
       "      <th>TransactionAmount</th>\n",
       "    </tr>\n",
       "  </thead>\n",
       "  <tbody>\n",
       "    <tr>\n",
       "      <th>0</th>\n",
       "      <td>1</td>\n",
       "      <td>79.413607</td>\n",
       "    </tr>\n",
       "    <tr>\n",
       "      <th>1</th>\n",
       "      <td>2</td>\n",
       "      <td>12.053087</td>\n",
       "    </tr>\n",
       "    <tr>\n",
       "      <th>2</th>\n",
       "      <td>3</td>\n",
       "      <td>33.310357</td>\n",
       "    </tr>\n",
       "    <tr>\n",
       "      <th>3</th>\n",
       "      <td>4</td>\n",
       "      <td>46.121117</td>\n",
       "    </tr>\n",
       "    <tr>\n",
       "      <th>4</th>\n",
       "      <td>5</td>\n",
       "      <td>54.051618</td>\n",
       "    </tr>\n",
       "    <tr>\n",
       "      <th>...</th>\n",
       "      <td>...</td>\n",
       "      <td>...</td>\n",
       "    </tr>\n",
       "    <tr>\n",
       "      <th>995</th>\n",
       "      <td>996</td>\n",
       "      <td>89.457059</td>\n",
       "    </tr>\n",
       "    <tr>\n",
       "      <th>996</th>\n",
       "      <td>997</td>\n",
       "      <td>47.958030</td>\n",
       "    </tr>\n",
       "    <tr>\n",
       "      <th>997</th>\n",
       "      <td>998</td>\n",
       "      <td>64.210046</td>\n",
       "    </tr>\n",
       "    <tr>\n",
       "      <th>998</th>\n",
       "      <td>999</td>\n",
       "      <td>64.684167</td>\n",
       "    </tr>\n",
       "    <tr>\n",
       "      <th>999</th>\n",
       "      <td>1000</td>\n",
       "      <td>97.440127</td>\n",
       "    </tr>\n",
       "  </tbody>\n",
       "</table>\n",
       "<p>1000 rows × 2 columns</p>\n",
       "</div>"
      ],
      "text/plain": [
       "     TransactionID  TransactionAmount\n",
       "0                1          79.413607\n",
       "1                2          12.053087\n",
       "2                3          33.310357\n",
       "3                4          46.121117\n",
       "4                5          54.051618\n",
       "..             ...                ...\n",
       "995            996          89.457059\n",
       "996            997          47.958030\n",
       "997            998          64.210046\n",
       "998            999          64.684167\n",
       "999           1000          97.440127\n",
       "\n",
       "[1000 rows x 2 columns]"
      ]
     },
     "execution_count": 6,
     "metadata": {},
     "output_type": "execute_result"
    }
   ],
   "source": [
    "amount_data=reading_datasets(\"amount_data.csv\")\n",
    "amount_data"
   ]
  },
  {
   "cell_type": "code",
   "execution_count": 7,
   "metadata": {},
   "outputs": [
    {
     "name": "stdout",
     "output_type": "stream",
     "text": [
      "The dataframe contains:1000 rows and 2 columns\n",
      "the dataset columns are:['TransactionID', 'AnomalyScore']\n"
     ]
    },
    {
     "data": {
      "text/html": [
       "<div>\n",
       "<style scoped>\n",
       "    .dataframe tbody tr th:only-of-type {\n",
       "        vertical-align: middle;\n",
       "    }\n",
       "\n",
       "    .dataframe tbody tr th {\n",
       "        vertical-align: top;\n",
       "    }\n",
       "\n",
       "    .dataframe thead th {\n",
       "        text-align: right;\n",
       "    }\n",
       "</style>\n",
       "<table border=\"1\" class=\"dataframe\">\n",
       "  <thead>\n",
       "    <tr style=\"text-align: right;\">\n",
       "      <th></th>\n",
       "      <th>TransactionID</th>\n",
       "      <th>AnomalyScore</th>\n",
       "    </tr>\n",
       "  </thead>\n",
       "  <tbody>\n",
       "    <tr>\n",
       "      <th>0</th>\n",
       "      <td>1</td>\n",
       "      <td>0.686699</td>\n",
       "    </tr>\n",
       "    <tr>\n",
       "      <th>1</th>\n",
       "      <td>2</td>\n",
       "      <td>0.081749</td>\n",
       "    </tr>\n",
       "    <tr>\n",
       "      <th>2</th>\n",
       "      <td>3</td>\n",
       "      <td>0.023857</td>\n",
       "    </tr>\n",
       "    <tr>\n",
       "      <th>3</th>\n",
       "      <td>4</td>\n",
       "      <td>0.876994</td>\n",
       "    </tr>\n",
       "    <tr>\n",
       "      <th>4</th>\n",
       "      <td>5</td>\n",
       "      <td>0.034059</td>\n",
       "    </tr>\n",
       "    <tr>\n",
       "      <th>...</th>\n",
       "      <td>...</td>\n",
       "      <td>...</td>\n",
       "    </tr>\n",
       "    <tr>\n",
       "      <th>995</th>\n",
       "      <td>996</td>\n",
       "      <td>0.266778</td>\n",
       "    </tr>\n",
       "    <tr>\n",
       "      <th>996</th>\n",
       "      <td>997</td>\n",
       "      <td>0.512483</td>\n",
       "    </tr>\n",
       "    <tr>\n",
       "      <th>997</th>\n",
       "      <td>998</td>\n",
       "      <td>0.367740</td>\n",
       "    </tr>\n",
       "    <tr>\n",
       "      <th>998</th>\n",
       "      <td>999</td>\n",
       "      <td>0.960364</td>\n",
       "    </tr>\n",
       "    <tr>\n",
       "      <th>999</th>\n",
       "      <td>1000</td>\n",
       "      <td>0.311224</td>\n",
       "    </tr>\n",
       "  </tbody>\n",
       "</table>\n",
       "<p>1000 rows × 2 columns</p>\n",
       "</div>"
      ],
      "text/plain": [
       "     TransactionID  AnomalyScore\n",
       "0                1      0.686699\n",
       "1                2      0.081749\n",
       "2                3      0.023857\n",
       "3                4      0.876994\n",
       "4                5      0.034059\n",
       "..             ...           ...\n",
       "995            996      0.266778\n",
       "996            997      0.512483\n",
       "997            998      0.367740\n",
       "998            999      0.960364\n",
       "999           1000      0.311224\n",
       "\n",
       "[1000 rows x 2 columns]"
      ]
     },
     "execution_count": 7,
     "metadata": {},
     "output_type": "execute_result"
    }
   ],
   "source": [
    "anormaly_scores=reading_datasets(\"anomaly_scores.csv\")\n",
    "anormaly_scores"
   ]
  },
  {
   "cell_type": "code",
   "execution_count": 8,
   "metadata": {},
   "outputs": [
    {
     "name": "stdout",
     "output_type": "stream",
     "text": [
      "The dataframe contains:1000 rows and 4 columns\n",
      "the dataset columns are:['CustomerID', 'Name', 'Age', 'Address']\n"
     ]
    },
    {
     "data": {
      "text/html": [
       "<div>\n",
       "<style scoped>\n",
       "    .dataframe tbody tr th:only-of-type {\n",
       "        vertical-align: middle;\n",
       "    }\n",
       "\n",
       "    .dataframe tbody tr th {\n",
       "        vertical-align: top;\n",
       "    }\n",
       "\n",
       "    .dataframe thead th {\n",
       "        text-align: right;\n",
       "    }\n",
       "</style>\n",
       "<table border=\"1\" class=\"dataframe\">\n",
       "  <thead>\n",
       "    <tr style=\"text-align: right;\">\n",
       "      <th></th>\n",
       "      <th>CustomerID</th>\n",
       "      <th>Name</th>\n",
       "      <th>Age</th>\n",
       "      <th>Address</th>\n",
       "    </tr>\n",
       "  </thead>\n",
       "  <tbody>\n",
       "    <tr>\n",
       "      <th>0</th>\n",
       "      <td>1001</td>\n",
       "      <td>Customer 1001</td>\n",
       "      <td>54</td>\n",
       "      <td>Address 1001</td>\n",
       "    </tr>\n",
       "    <tr>\n",
       "      <th>1</th>\n",
       "      <td>1002</td>\n",
       "      <td>Customer 1002</td>\n",
       "      <td>35</td>\n",
       "      <td>Address 1002</td>\n",
       "    </tr>\n",
       "    <tr>\n",
       "      <th>2</th>\n",
       "      <td>1003</td>\n",
       "      <td>Customer 1003</td>\n",
       "      <td>40</td>\n",
       "      <td>Address 1003</td>\n",
       "    </tr>\n",
       "    <tr>\n",
       "      <th>3</th>\n",
       "      <td>1004</td>\n",
       "      <td>Customer 1004</td>\n",
       "      <td>30</td>\n",
       "      <td>Address 1004</td>\n",
       "    </tr>\n",
       "    <tr>\n",
       "      <th>4</th>\n",
       "      <td>1005</td>\n",
       "      <td>Customer 1005</td>\n",
       "      <td>46</td>\n",
       "      <td>Address 1005</td>\n",
       "    </tr>\n",
       "    <tr>\n",
       "      <th>...</th>\n",
       "      <td>...</td>\n",
       "      <td>...</td>\n",
       "      <td>...</td>\n",
       "      <td>...</td>\n",
       "    </tr>\n",
       "    <tr>\n",
       "      <th>995</th>\n",
       "      <td>1996</td>\n",
       "      <td>Customer 1996</td>\n",
       "      <td>33</td>\n",
       "      <td>Address 1996</td>\n",
       "    </tr>\n",
       "    <tr>\n",
       "      <th>996</th>\n",
       "      <td>1997</td>\n",
       "      <td>Customer 1997</td>\n",
       "      <td>58</td>\n",
       "      <td>Address 1997</td>\n",
       "    </tr>\n",
       "    <tr>\n",
       "      <th>997</th>\n",
       "      <td>1998</td>\n",
       "      <td>Customer 1998</td>\n",
       "      <td>25</td>\n",
       "      <td>Address 1998</td>\n",
       "    </tr>\n",
       "    <tr>\n",
       "      <th>998</th>\n",
       "      <td>1999</td>\n",
       "      <td>Customer 1999</td>\n",
       "      <td>57</td>\n",
       "      <td>Address 1999</td>\n",
       "    </tr>\n",
       "    <tr>\n",
       "      <th>999</th>\n",
       "      <td>2000</td>\n",
       "      <td>Customer 2000</td>\n",
       "      <td>42</td>\n",
       "      <td>Address 2000</td>\n",
       "    </tr>\n",
       "  </tbody>\n",
       "</table>\n",
       "<p>1000 rows × 4 columns</p>\n",
       "</div>"
      ],
      "text/plain": [
       "     CustomerID           Name  Age       Address\n",
       "0          1001  Customer 1001   54  Address 1001\n",
       "1          1002  Customer 1002   35  Address 1002\n",
       "2          1003  Customer 1003   40  Address 1003\n",
       "3          1004  Customer 1004   30  Address 1004\n",
       "4          1005  Customer 1005   46  Address 1005\n",
       "..          ...            ...  ...           ...\n",
       "995        1996  Customer 1996   33  Address 1996\n",
       "996        1997  Customer 1997   58  Address 1997\n",
       "997        1998  Customer 1998   25  Address 1998\n",
       "998        1999  Customer 1999   57  Address 1999\n",
       "999        2000  Customer 2000   42  Address 2000\n",
       "\n",
       "[1000 rows x 4 columns]"
      ]
     },
     "execution_count": 8,
     "metadata": {},
     "output_type": "execute_result"
    }
   ],
   "source": [
    "customer_data=reading_datasets(\"customer_data.csv\")\n",
    "customer_data"
   ]
  },
  {
   "cell_type": "code",
   "execution_count": 9,
   "metadata": {},
   "outputs": [
    {
     "name": "stdout",
     "output_type": "stream",
     "text": [
      "The dataframe contains:1000 rows and 2 columns\n",
      "the dataset columns are:['TransactionID', 'FraudIndicator']\n"
     ]
    },
    {
     "data": {
      "text/html": [
       "<div>\n",
       "<style scoped>\n",
       "    .dataframe tbody tr th:only-of-type {\n",
       "        vertical-align: middle;\n",
       "    }\n",
       "\n",
       "    .dataframe tbody tr th {\n",
       "        vertical-align: top;\n",
       "    }\n",
       "\n",
       "    .dataframe thead th {\n",
       "        text-align: right;\n",
       "    }\n",
       "</style>\n",
       "<table border=\"1\" class=\"dataframe\">\n",
       "  <thead>\n",
       "    <tr style=\"text-align: right;\">\n",
       "      <th></th>\n",
       "      <th>TransactionID</th>\n",
       "      <th>FraudIndicator</th>\n",
       "    </tr>\n",
       "  </thead>\n",
       "  <tbody>\n",
       "    <tr>\n",
       "      <th>0</th>\n",
       "      <td>1</td>\n",
       "      <td>0</td>\n",
       "    </tr>\n",
       "    <tr>\n",
       "      <th>1</th>\n",
       "      <td>2</td>\n",
       "      <td>0</td>\n",
       "    </tr>\n",
       "    <tr>\n",
       "      <th>2</th>\n",
       "      <td>3</td>\n",
       "      <td>0</td>\n",
       "    </tr>\n",
       "    <tr>\n",
       "      <th>3</th>\n",
       "      <td>4</td>\n",
       "      <td>0</td>\n",
       "    </tr>\n",
       "    <tr>\n",
       "      <th>4</th>\n",
       "      <td>5</td>\n",
       "      <td>0</td>\n",
       "    </tr>\n",
       "    <tr>\n",
       "      <th>...</th>\n",
       "      <td>...</td>\n",
       "      <td>...</td>\n",
       "    </tr>\n",
       "    <tr>\n",
       "      <th>995</th>\n",
       "      <td>996</td>\n",
       "      <td>0</td>\n",
       "    </tr>\n",
       "    <tr>\n",
       "      <th>996</th>\n",
       "      <td>997</td>\n",
       "      <td>0</td>\n",
       "    </tr>\n",
       "    <tr>\n",
       "      <th>997</th>\n",
       "      <td>998</td>\n",
       "      <td>0</td>\n",
       "    </tr>\n",
       "    <tr>\n",
       "      <th>998</th>\n",
       "      <td>999</td>\n",
       "      <td>0</td>\n",
       "    </tr>\n",
       "    <tr>\n",
       "      <th>999</th>\n",
       "      <td>1000</td>\n",
       "      <td>0</td>\n",
       "    </tr>\n",
       "  </tbody>\n",
       "</table>\n",
       "<p>1000 rows × 2 columns</p>\n",
       "</div>"
      ],
      "text/plain": [
       "     TransactionID  FraudIndicator\n",
       "0                1               0\n",
       "1                2               0\n",
       "2                3               0\n",
       "3                4               0\n",
       "4                5               0\n",
       "..             ...             ...\n",
       "995            996               0\n",
       "996            997               0\n",
       "997            998               0\n",
       "998            999               0\n",
       "999           1000               0\n",
       "\n",
       "[1000 rows x 2 columns]"
      ]
     },
     "execution_count": 9,
     "metadata": {},
     "output_type": "execute_result"
    }
   ],
   "source": [
    "fraud_indicators=reading_datasets(\"fraud_indicators.csv\")\n",
    "fraud_indicators"
   ]
  },
  {
   "cell_type": "code",
   "execution_count": 10,
   "metadata": {},
   "outputs": [
    {
     "name": "stdout",
     "output_type": "stream",
     "text": [
      "The dataframe contains:1000 rows and 3 columns\n",
      "the dataset columns are:['MerchantID', 'MerchantName', 'Location']\n"
     ]
    },
    {
     "data": {
      "text/html": [
       "<div>\n",
       "<style scoped>\n",
       "    .dataframe tbody tr th:only-of-type {\n",
       "        vertical-align: middle;\n",
       "    }\n",
       "\n",
       "    .dataframe tbody tr th {\n",
       "        vertical-align: top;\n",
       "    }\n",
       "\n",
       "    .dataframe thead th {\n",
       "        text-align: right;\n",
       "    }\n",
       "</style>\n",
       "<table border=\"1\" class=\"dataframe\">\n",
       "  <thead>\n",
       "    <tr style=\"text-align: right;\">\n",
       "      <th></th>\n",
       "      <th>MerchantID</th>\n",
       "      <th>MerchantName</th>\n",
       "      <th>Location</th>\n",
       "    </tr>\n",
       "  </thead>\n",
       "  <tbody>\n",
       "    <tr>\n",
       "      <th>0</th>\n",
       "      <td>2001</td>\n",
       "      <td>Merchant 2001</td>\n",
       "      <td>Location 2001</td>\n",
       "    </tr>\n",
       "    <tr>\n",
       "      <th>1</th>\n",
       "      <td>2002</td>\n",
       "      <td>Merchant 2002</td>\n",
       "      <td>Location 2002</td>\n",
       "    </tr>\n",
       "    <tr>\n",
       "      <th>2</th>\n",
       "      <td>2003</td>\n",
       "      <td>Merchant 2003</td>\n",
       "      <td>Location 2003</td>\n",
       "    </tr>\n",
       "    <tr>\n",
       "      <th>3</th>\n",
       "      <td>2004</td>\n",
       "      <td>Merchant 2004</td>\n",
       "      <td>Location 2004</td>\n",
       "    </tr>\n",
       "    <tr>\n",
       "      <th>4</th>\n",
       "      <td>2005</td>\n",
       "      <td>Merchant 2005</td>\n",
       "      <td>Location 2005</td>\n",
       "    </tr>\n",
       "    <tr>\n",
       "      <th>...</th>\n",
       "      <td>...</td>\n",
       "      <td>...</td>\n",
       "      <td>...</td>\n",
       "    </tr>\n",
       "    <tr>\n",
       "      <th>995</th>\n",
       "      <td>2996</td>\n",
       "      <td>Merchant 2996</td>\n",
       "      <td>Location 2996</td>\n",
       "    </tr>\n",
       "    <tr>\n",
       "      <th>996</th>\n",
       "      <td>2997</td>\n",
       "      <td>Merchant 2997</td>\n",
       "      <td>Location 2997</td>\n",
       "    </tr>\n",
       "    <tr>\n",
       "      <th>997</th>\n",
       "      <td>2998</td>\n",
       "      <td>Merchant 2998</td>\n",
       "      <td>Location 2998</td>\n",
       "    </tr>\n",
       "    <tr>\n",
       "      <th>998</th>\n",
       "      <td>2999</td>\n",
       "      <td>Merchant 2999</td>\n",
       "      <td>Location 2999</td>\n",
       "    </tr>\n",
       "    <tr>\n",
       "      <th>999</th>\n",
       "      <td>3000</td>\n",
       "      <td>Merchant 3000</td>\n",
       "      <td>Location 3000</td>\n",
       "    </tr>\n",
       "  </tbody>\n",
       "</table>\n",
       "<p>1000 rows × 3 columns</p>\n",
       "</div>"
      ],
      "text/plain": [
       "     MerchantID   MerchantName       Location\n",
       "0          2001  Merchant 2001  Location 2001\n",
       "1          2002  Merchant 2002  Location 2002\n",
       "2          2003  Merchant 2003  Location 2003\n",
       "3          2004  Merchant 2004  Location 2004\n",
       "4          2005  Merchant 2005  Location 2005\n",
       "..          ...            ...            ...\n",
       "995        2996  Merchant 2996  Location 2996\n",
       "996        2997  Merchant 2997  Location 2997\n",
       "997        2998  Merchant 2998  Location 2998\n",
       "998        2999  Merchant 2999  Location 2999\n",
       "999        3000  Merchant 3000  Location 3000\n",
       "\n",
       "[1000 rows x 3 columns]"
      ]
     },
     "execution_count": 10,
     "metadata": {},
     "output_type": "execute_result"
    }
   ],
   "source": [
    "merchant_data=reading_datasets(\"merchant_data.csv\")\n",
    "merchant_data"
   ]
  },
  {
   "cell_type": "code",
   "execution_count": 11,
   "metadata": {},
   "outputs": [
    {
     "name": "stdout",
     "output_type": "stream",
     "text": [
      "The dataframe contains:1000 rows and 2 columns\n",
      "the dataset columns are:['CustomerID', 'SuspiciousFlag']\n"
     ]
    },
    {
     "data": {
      "text/html": [
       "<div>\n",
       "<style scoped>\n",
       "    .dataframe tbody tr th:only-of-type {\n",
       "        vertical-align: middle;\n",
       "    }\n",
       "\n",
       "    .dataframe tbody tr th {\n",
       "        vertical-align: top;\n",
       "    }\n",
       "\n",
       "    .dataframe thead th {\n",
       "        text-align: right;\n",
       "    }\n",
       "</style>\n",
       "<table border=\"1\" class=\"dataframe\">\n",
       "  <thead>\n",
       "    <tr style=\"text-align: right;\">\n",
       "      <th></th>\n",
       "      <th>CustomerID</th>\n",
       "      <th>SuspiciousFlag</th>\n",
       "    </tr>\n",
       "  </thead>\n",
       "  <tbody>\n",
       "    <tr>\n",
       "      <th>0</th>\n",
       "      <td>1001</td>\n",
       "      <td>0</td>\n",
       "    </tr>\n",
       "    <tr>\n",
       "      <th>1</th>\n",
       "      <td>1002</td>\n",
       "      <td>0</td>\n",
       "    </tr>\n",
       "    <tr>\n",
       "      <th>2</th>\n",
       "      <td>1003</td>\n",
       "      <td>0</td>\n",
       "    </tr>\n",
       "    <tr>\n",
       "      <th>3</th>\n",
       "      <td>1004</td>\n",
       "      <td>0</td>\n",
       "    </tr>\n",
       "    <tr>\n",
       "      <th>4</th>\n",
       "      <td>1005</td>\n",
       "      <td>0</td>\n",
       "    </tr>\n",
       "    <tr>\n",
       "      <th>...</th>\n",
       "      <td>...</td>\n",
       "      <td>...</td>\n",
       "    </tr>\n",
       "    <tr>\n",
       "      <th>995</th>\n",
       "      <td>1996</td>\n",
       "      <td>0</td>\n",
       "    </tr>\n",
       "    <tr>\n",
       "      <th>996</th>\n",
       "      <td>1997</td>\n",
       "      <td>0</td>\n",
       "    </tr>\n",
       "    <tr>\n",
       "      <th>997</th>\n",
       "      <td>1998</td>\n",
       "      <td>0</td>\n",
       "    </tr>\n",
       "    <tr>\n",
       "      <th>998</th>\n",
       "      <td>1999</td>\n",
       "      <td>0</td>\n",
       "    </tr>\n",
       "    <tr>\n",
       "      <th>999</th>\n",
       "      <td>2000</td>\n",
       "      <td>0</td>\n",
       "    </tr>\n",
       "  </tbody>\n",
       "</table>\n",
       "<p>1000 rows × 2 columns</p>\n",
       "</div>"
      ],
      "text/plain": [
       "     CustomerID  SuspiciousFlag\n",
       "0          1001               0\n",
       "1          1002               0\n",
       "2          1003               0\n",
       "3          1004               0\n",
       "4          1005               0\n",
       "..          ...             ...\n",
       "995        1996               0\n",
       "996        1997               0\n",
       "997        1998               0\n",
       "998        1999               0\n",
       "999        2000               0\n",
       "\n",
       "[1000 rows x 2 columns]"
      ]
     },
     "execution_count": 11,
     "metadata": {},
     "output_type": "execute_result"
    }
   ],
   "source": [
    "suspicious_activity=reading_datasets(\"suspicious_activity.csv\")\n",
    "suspicious_activity"
   ]
  },
  {
   "cell_type": "code",
   "execution_count": 12,
   "metadata": {},
   "outputs": [
    {
     "name": "stdout",
     "output_type": "stream",
     "text": [
      "The dataframe contains:1000 rows and 2 columns\n",
      "the dataset columns are:['TransactionID', 'Category']\n"
     ]
    },
    {
     "data": {
      "text/html": [
       "<div>\n",
       "<style scoped>\n",
       "    .dataframe tbody tr th:only-of-type {\n",
       "        vertical-align: middle;\n",
       "    }\n",
       "\n",
       "    .dataframe tbody tr th {\n",
       "        vertical-align: top;\n",
       "    }\n",
       "\n",
       "    .dataframe thead th {\n",
       "        text-align: right;\n",
       "    }\n",
       "</style>\n",
       "<table border=\"1\" class=\"dataframe\">\n",
       "  <thead>\n",
       "    <tr style=\"text-align: right;\">\n",
       "      <th></th>\n",
       "      <th>TransactionID</th>\n",
       "      <th>Category</th>\n",
       "    </tr>\n",
       "  </thead>\n",
       "  <tbody>\n",
       "    <tr>\n",
       "      <th>0</th>\n",
       "      <td>1</td>\n",
       "      <td>Other</td>\n",
       "    </tr>\n",
       "    <tr>\n",
       "      <th>1</th>\n",
       "      <td>2</td>\n",
       "      <td>Online</td>\n",
       "    </tr>\n",
       "    <tr>\n",
       "      <th>2</th>\n",
       "      <td>3</td>\n",
       "      <td>Travel</td>\n",
       "    </tr>\n",
       "    <tr>\n",
       "      <th>3</th>\n",
       "      <td>4</td>\n",
       "      <td>Travel</td>\n",
       "    </tr>\n",
       "    <tr>\n",
       "      <th>4</th>\n",
       "      <td>5</td>\n",
       "      <td>Other</td>\n",
       "    </tr>\n",
       "    <tr>\n",
       "      <th>...</th>\n",
       "      <td>...</td>\n",
       "      <td>...</td>\n",
       "    </tr>\n",
       "    <tr>\n",
       "      <th>995</th>\n",
       "      <td>996</td>\n",
       "      <td>Food</td>\n",
       "    </tr>\n",
       "    <tr>\n",
       "      <th>996</th>\n",
       "      <td>997</td>\n",
       "      <td>Retail</td>\n",
       "    </tr>\n",
       "    <tr>\n",
       "      <th>997</th>\n",
       "      <td>998</td>\n",
       "      <td>Food</td>\n",
       "    </tr>\n",
       "    <tr>\n",
       "      <th>998</th>\n",
       "      <td>999</td>\n",
       "      <td>Travel</td>\n",
       "    </tr>\n",
       "    <tr>\n",
       "      <th>999</th>\n",
       "      <td>1000</td>\n",
       "      <td>Other</td>\n",
       "    </tr>\n",
       "  </tbody>\n",
       "</table>\n",
       "<p>1000 rows × 2 columns</p>\n",
       "</div>"
      ],
      "text/plain": [
       "     TransactionID Category\n",
       "0                1    Other\n",
       "1                2   Online\n",
       "2                3   Travel\n",
       "3                4   Travel\n",
       "4                5    Other\n",
       "..             ...      ...\n",
       "995            996     Food\n",
       "996            997   Retail\n",
       "997            998     Food\n",
       "998            999   Travel\n",
       "999           1000    Other\n",
       "\n",
       "[1000 rows x 2 columns]"
      ]
     },
     "execution_count": 12,
     "metadata": {},
     "output_type": "execute_result"
    }
   ],
   "source": [
    "transaction_category_labels=reading_datasets(\"transaction_category_labels.csv\")\n",
    "transaction_category_labels"
   ]
  },
  {
   "cell_type": "code",
   "execution_count": 13,
   "metadata": {},
   "outputs": [
    {
     "name": "stdout",
     "output_type": "stream",
     "text": [
      "The dataframe contains:1000 rows and 3 columns\n",
      "the dataset columns are:['TransactionID', 'Timestamp', 'MerchantID']\n"
     ]
    },
    {
     "data": {
      "text/html": [
       "<div>\n",
       "<style scoped>\n",
       "    .dataframe tbody tr th:only-of-type {\n",
       "        vertical-align: middle;\n",
       "    }\n",
       "\n",
       "    .dataframe tbody tr th {\n",
       "        vertical-align: top;\n",
       "    }\n",
       "\n",
       "    .dataframe thead th {\n",
       "        text-align: right;\n",
       "    }\n",
       "</style>\n",
       "<table border=\"1\" class=\"dataframe\">\n",
       "  <thead>\n",
       "    <tr style=\"text-align: right;\">\n",
       "      <th></th>\n",
       "      <th>TransactionID</th>\n",
       "      <th>Timestamp</th>\n",
       "      <th>MerchantID</th>\n",
       "    </tr>\n",
       "  </thead>\n",
       "  <tbody>\n",
       "    <tr>\n",
       "      <th>0</th>\n",
       "      <td>1</td>\n",
       "      <td>2022-01-01 00:00:00</td>\n",
       "      <td>2701</td>\n",
       "    </tr>\n",
       "    <tr>\n",
       "      <th>1</th>\n",
       "      <td>2</td>\n",
       "      <td>2022-01-01 01:00:00</td>\n",
       "      <td>2070</td>\n",
       "    </tr>\n",
       "    <tr>\n",
       "      <th>2</th>\n",
       "      <td>3</td>\n",
       "      <td>2022-01-01 02:00:00</td>\n",
       "      <td>2238</td>\n",
       "    </tr>\n",
       "    <tr>\n",
       "      <th>3</th>\n",
       "      <td>4</td>\n",
       "      <td>2022-01-01 03:00:00</td>\n",
       "      <td>2879</td>\n",
       "    </tr>\n",
       "    <tr>\n",
       "      <th>4</th>\n",
       "      <td>5</td>\n",
       "      <td>2022-01-01 04:00:00</td>\n",
       "      <td>2966</td>\n",
       "    </tr>\n",
       "    <tr>\n",
       "      <th>...</th>\n",
       "      <td>...</td>\n",
       "      <td>...</td>\n",
       "      <td>...</td>\n",
       "    </tr>\n",
       "    <tr>\n",
       "      <th>995</th>\n",
       "      <td>996</td>\n",
       "      <td>2022-02-11 11:00:00</td>\n",
       "      <td>2150</td>\n",
       "    </tr>\n",
       "    <tr>\n",
       "      <th>996</th>\n",
       "      <td>997</td>\n",
       "      <td>2022-02-11 12:00:00</td>\n",
       "      <td>2888</td>\n",
       "    </tr>\n",
       "    <tr>\n",
       "      <th>997</th>\n",
       "      <td>998</td>\n",
       "      <td>2022-02-11 13:00:00</td>\n",
       "      <td>2037</td>\n",
       "    </tr>\n",
       "    <tr>\n",
       "      <th>998</th>\n",
       "      <td>999</td>\n",
       "      <td>2022-02-11 14:00:00</td>\n",
       "      <td>2629</td>\n",
       "    </tr>\n",
       "    <tr>\n",
       "      <th>999</th>\n",
       "      <td>1000</td>\n",
       "      <td>2022-02-11 15:00:00</td>\n",
       "      <td>2235</td>\n",
       "    </tr>\n",
       "  </tbody>\n",
       "</table>\n",
       "<p>1000 rows × 3 columns</p>\n",
       "</div>"
      ],
      "text/plain": [
       "     TransactionID            Timestamp  MerchantID\n",
       "0                1  2022-01-01 00:00:00        2701\n",
       "1                2  2022-01-01 01:00:00        2070\n",
       "2                3  2022-01-01 02:00:00        2238\n",
       "3                4  2022-01-01 03:00:00        2879\n",
       "4                5  2022-01-01 04:00:00        2966\n",
       "..             ...                  ...         ...\n",
       "995            996  2022-02-11 11:00:00        2150\n",
       "996            997  2022-02-11 12:00:00        2888\n",
       "997            998  2022-02-11 13:00:00        2037\n",
       "998            999  2022-02-11 14:00:00        2629\n",
       "999           1000  2022-02-11 15:00:00        2235\n",
       "\n",
       "[1000 rows x 3 columns]"
      ]
     },
     "execution_count": 13,
     "metadata": {},
     "output_type": "execute_result"
    }
   ],
   "source": [
    "transaction_metadata=reading_datasets(\"transaction_metadata.csv\")\n",
    "transaction_metadata"
   ]
  },
  {
   "cell_type": "code",
   "execution_count": 14,
   "metadata": {},
   "outputs": [
    {
     "name": "stdout",
     "output_type": "stream",
     "text": [
      "The dataframe contains:1000 rows and 3 columns\n",
      "the dataset columns are:['TransactionID', 'Amount', 'CustomerID']\n"
     ]
    },
    {
     "data": {
      "text/html": [
       "<div>\n",
       "<style scoped>\n",
       "    .dataframe tbody tr th:only-of-type {\n",
       "        vertical-align: middle;\n",
       "    }\n",
       "\n",
       "    .dataframe tbody tr th {\n",
       "        vertical-align: top;\n",
       "    }\n",
       "\n",
       "    .dataframe thead th {\n",
       "        text-align: right;\n",
       "    }\n",
       "</style>\n",
       "<table border=\"1\" class=\"dataframe\">\n",
       "  <thead>\n",
       "    <tr style=\"text-align: right;\">\n",
       "      <th></th>\n",
       "      <th>TransactionID</th>\n",
       "      <th>Amount</th>\n",
       "      <th>CustomerID</th>\n",
       "    </tr>\n",
       "  </thead>\n",
       "  <tbody>\n",
       "    <tr>\n",
       "      <th>0</th>\n",
       "      <td>1</td>\n",
       "      <td>55.530334</td>\n",
       "      <td>1952</td>\n",
       "    </tr>\n",
       "    <tr>\n",
       "      <th>1</th>\n",
       "      <td>2</td>\n",
       "      <td>12.881180</td>\n",
       "      <td>1027</td>\n",
       "    </tr>\n",
       "    <tr>\n",
       "      <th>2</th>\n",
       "      <td>3</td>\n",
       "      <td>50.176322</td>\n",
       "      <td>1955</td>\n",
       "    </tr>\n",
       "    <tr>\n",
       "      <th>3</th>\n",
       "      <td>4</td>\n",
       "      <td>41.634001</td>\n",
       "      <td>1796</td>\n",
       "    </tr>\n",
       "    <tr>\n",
       "      <th>4</th>\n",
       "      <td>5</td>\n",
       "      <td>78.122853</td>\n",
       "      <td>1946</td>\n",
       "    </tr>\n",
       "    <tr>\n",
       "      <th>...</th>\n",
       "      <td>...</td>\n",
       "      <td>...</td>\n",
       "      <td>...</td>\n",
       "    </tr>\n",
       "    <tr>\n",
       "      <th>995</th>\n",
       "      <td>996</td>\n",
       "      <td>19.876750</td>\n",
       "      <td>1411</td>\n",
       "    </tr>\n",
       "    <tr>\n",
       "      <th>996</th>\n",
       "      <td>997</td>\n",
       "      <td>96.299792</td>\n",
       "      <td>1566</td>\n",
       "    </tr>\n",
       "    <tr>\n",
       "      <th>997</th>\n",
       "      <td>998</td>\n",
       "      <td>75.164459</td>\n",
       "      <td>1654</td>\n",
       "    </tr>\n",
       "    <tr>\n",
       "      <th>998</th>\n",
       "      <td>999</td>\n",
       "      <td>93.633040</td>\n",
       "      <td>1928</td>\n",
       "    </tr>\n",
       "    <tr>\n",
       "      <th>999</th>\n",
       "      <td>1000</td>\n",
       "      <td>89.915625</td>\n",
       "      <td>1503</td>\n",
       "    </tr>\n",
       "  </tbody>\n",
       "</table>\n",
       "<p>1000 rows × 3 columns</p>\n",
       "</div>"
      ],
      "text/plain": [
       "     TransactionID     Amount  CustomerID\n",
       "0                1  55.530334        1952\n",
       "1                2  12.881180        1027\n",
       "2                3  50.176322        1955\n",
       "3                4  41.634001        1796\n",
       "4                5  78.122853        1946\n",
       "..             ...        ...         ...\n",
       "995            996  19.876750        1411\n",
       "996            997  96.299792        1566\n",
       "997            998  75.164459        1654\n",
       "998            999  93.633040        1928\n",
       "999           1000  89.915625        1503\n",
       "\n",
       "[1000 rows x 3 columns]"
      ]
     },
     "execution_count": 14,
     "metadata": {},
     "output_type": "execute_result"
    }
   ],
   "source": [
    "transaction_records=reading_datasets(\"transaction_records.csv\")\n",
    "transaction_records"
   ]
  },
  {
   "cell_type": "markdown",
   "metadata": {},
   "source": [
    "All our datasets have the same number of rows,and some identical columns.We can merge them for easier analysis."
   ]
  },
  {
   "cell_type": "code",
   "execution_count": 15,
   "metadata": {},
   "outputs": [
    {
     "data": {
      "text/plain": [
       "0      True\n",
       "1      True\n",
       "2      True\n",
       "3      True\n",
       "4      True\n",
       "       ... \n",
       "995    True\n",
       "996    True\n",
       "997    True\n",
       "998    True\n",
       "999    True\n",
       "Name: TransactionID, Length: 1000, dtype: bool"
      ]
     },
     "execution_count": 15,
     "metadata": {},
     "output_type": "execute_result"
    }
   ],
   "source": [
    "#merging amount_data and anomarmaly_score on transaction ID\n",
    "#confirming if the transaction ids arethe same\n",
    "#amount_data[\"TransactionID\"]==anormaly_scores[\"TransactionID\"]\n",
    "anormaly_scores[\"TransactionID\"]==transaction_records[\"TransactionID\"]"
   ]
  },
  {
   "cell_type": "code",
   "execution_count": 16,
   "metadata": {},
   "outputs": [],
   "source": [
    "def merged_data():\n",
    "    merged_data=pd.merge(amount_data,anormaly_scores,on=\"TransactionID\",how=\"inner\")\n",
    "    merged_data=pd.merge(merged_data,transaction_records,on=\"TransactionID\",how=\"inner\")\n",
    "    merged_data=pd.merge(merged_data,transaction_metadata,on=\"TransactionID\",how=\"inner\")\n",
    "    merged_data=pd.merge(merged_data,transaction_category_labels,on=\"TransactionID\",how=\"inner\")\n",
    "    merged_data=pd.merge(merged_data,merchant_data,on=\"MerchantID\",how=\"inner\")\n",
    "    merged_data=pd.merge(merged_data,fraud_indicators,on=\"TransactionID\",how=\"inner\")\n",
    "    new_data=pd.merge(suspicious_activity,customer_data,on=\"CustomerID\",how=\"inner\")\n",
    "    new_data=pd.merge(new_data,account_activity,on=\"CustomerID\",how=\"inner\")\n",
    "    df=pd.merge(new_data,merged_data,on=\"CustomerID\",how=\"inner\")\n",
    "    return df\n",
    "\n"
   ]
  },
  {
   "cell_type": "code",
   "execution_count": 17,
   "metadata": {},
   "outputs": [
    {
     "data": {
      "text/plain": [
       "Index(['CustomerID', 'SuspiciousFlag', 'Name', 'Age', 'Address',\n",
       "       'AccountBalance', 'LastLogin', 'TransactionID', 'TransactionAmount',\n",
       "       'AnomalyScore', 'Amount', 'Timestamp', 'MerchantID', 'Category',\n",
       "       'MerchantName', 'Location', 'FraudIndicator'],\n",
       "      dtype='object')"
      ]
     },
     "execution_count": 17,
     "metadata": {},
     "output_type": "execute_result"
    }
   ],
   "source": [
    "data=merged_data()\n",
    "#viewing the first five rows\n",
    "data.columns"
   ]
  },
  {
   "cell_type": "markdown",
   "metadata": {},
   "source": [
    "## Data cleaning and preparation"
   ]
  },
  {
   "cell_type": "code",
   "execution_count": 18,
   "metadata": {},
   "outputs": [],
   "source": [
    "#reorganizing the columns\n",
    "data=data[[\"CustomerID\",\"Name\",\"Age\",\"Address\",\"Location\",\"MerchantName\",\"MerchantID\",\"Category\",\"TransactionID\",\"TransactionAmount\",\"Amount\",\"Timestamp\",\"LastLogin\",\"AccountBalance\",\"AnomalyScore\",\"SuspiciousFlag\",\"FraudIndicator\"]]"
   ]
  },
  {
   "cell_type": "code",
   "execution_count": 19,
   "metadata": {},
   "outputs": [],
   "source": [
    "#dropping irreevant columns\n",
    "#NOTE CUSTOMER ID IS THE CUSTOMER NAME AND THE ADDRESS\n",
    "#NOTE merchantname,location and id are also the same.\n",
    "irrelevant_cols=[\"Name\",\"Address\",\"Location\",\"MerchantName\",\"TransactionID\"]\n",
    "data.drop(irrelevant_cols,axis=1,inplace=True)"
   ]
  },
  {
   "cell_type": "code",
   "execution_count": 20,
   "metadata": {},
   "outputs": [
    {
     "data": {
      "text/html": [
       "<div>\n",
       "<style scoped>\n",
       "    .dataframe tbody tr th:only-of-type {\n",
       "        vertical-align: middle;\n",
       "    }\n",
       "\n",
       "    .dataframe tbody tr th {\n",
       "        vertical-align: top;\n",
       "    }\n",
       "\n",
       "    .dataframe thead th {\n",
       "        text-align: right;\n",
       "    }\n",
       "</style>\n",
       "<table border=\"1\" class=\"dataframe\">\n",
       "  <thead>\n",
       "    <tr style=\"text-align: right;\">\n",
       "      <th></th>\n",
       "      <th>CustomerID</th>\n",
       "      <th>Age</th>\n",
       "      <th>MerchantID</th>\n",
       "      <th>Category</th>\n",
       "      <th>TransactionAmount</th>\n",
       "      <th>Amount</th>\n",
       "      <th>Timestamp</th>\n",
       "      <th>LastLogin</th>\n",
       "      <th>AccountBalance</th>\n",
       "      <th>AnomalyScore</th>\n",
       "      <th>SuspiciousFlag</th>\n",
       "      <th>FraudIndicator</th>\n",
       "    </tr>\n",
       "  </thead>\n",
       "  <tbody>\n",
       "    <tr>\n",
       "      <th>0</th>\n",
       "      <td>1001</td>\n",
       "      <td>54</td>\n",
       "      <td>2627</td>\n",
       "      <td>Food</td>\n",
       "      <td>87.375444</td>\n",
       "      <td>33.670626</td>\n",
       "      <td>2022-02-02 18:00:00</td>\n",
       "      <td>2022-01-01</td>\n",
       "      <td>9507.272060</td>\n",
       "      <td>0.030921</td>\n",
       "      <td>0</td>\n",
       "      <td>0</td>\n",
       "    </tr>\n",
       "    <tr>\n",
       "      <th>1</th>\n",
       "      <td>1003</td>\n",
       "      <td>40</td>\n",
       "      <td>2496</td>\n",
       "      <td>Travel</td>\n",
       "      <td>46.044172</td>\n",
       "      <td>30.980239</td>\n",
       "      <td>2022-01-27 16:00:00</td>\n",
       "      <td>2022-01-03</td>\n",
       "      <td>1715.321989</td>\n",
       "      <td>0.961552</td>\n",
       "      <td>0</td>\n",
       "      <td>0</td>\n",
       "    </tr>\n",
       "    <tr>\n",
       "      <th>2</th>\n",
       "      <td>1004</td>\n",
       "      <td>30</td>\n",
       "      <td>2111</td>\n",
       "      <td>Other</td>\n",
       "      <td>36.534720</td>\n",
       "      <td>45.849784</td>\n",
       "      <td>2022-02-08 08:00:00</td>\n",
       "      <td>2022-01-04</td>\n",
       "      <td>3101.509134</td>\n",
       "      <td>0.652188</td>\n",
       "      <td>0</td>\n",
       "      <td>0</td>\n",
       "    </tr>\n",
       "    <tr>\n",
       "      <th>3</th>\n",
       "      <td>1004</td>\n",
       "      <td>30</td>\n",
       "      <td>2184</td>\n",
       "      <td>Other</td>\n",
       "      <td>85.085061</td>\n",
       "      <td>11.167088</td>\n",
       "      <td>2022-01-19 17:00:00</td>\n",
       "      <td>2022-01-04</td>\n",
       "      <td>3101.509134</td>\n",
       "      <td>0.525809</td>\n",
       "      <td>0</td>\n",
       "      <td>0</td>\n",
       "    </tr>\n",
       "    <tr>\n",
       "      <th>4</th>\n",
       "      <td>1005</td>\n",
       "      <td>46</td>\n",
       "      <td>2191</td>\n",
       "      <td>Other</td>\n",
       "      <td>82.852025</td>\n",
       "      <td>81.808651</td>\n",
       "      <td>2022-01-25 22:00:00</td>\n",
       "      <td>2022-01-05</td>\n",
       "      <td>5405.766914</td>\n",
       "      <td>0.661493</td>\n",
       "      <td>0</td>\n",
       "      <td>0</td>\n",
       "    </tr>\n",
       "    <tr>\n",
       "      <th>...</th>\n",
       "      <td>...</td>\n",
       "      <td>...</td>\n",
       "      <td>...</td>\n",
       "      <td>...</td>\n",
       "      <td>...</td>\n",
       "      <td>...</td>\n",
       "      <td>...</td>\n",
       "      <td>...</td>\n",
       "      <td>...</td>\n",
       "      <td>...</td>\n",
       "      <td>...</td>\n",
       "      <td>...</td>\n",
       "    </tr>\n",
       "    <tr>\n",
       "      <th>995</th>\n",
       "      <td>1999</td>\n",
       "      <td>57</td>\n",
       "      <td>2789</td>\n",
       "      <td>Retail</td>\n",
       "      <td>33.876305</td>\n",
       "      <td>69.825072</td>\n",
       "      <td>2022-01-10 19:00:00</td>\n",
       "      <td>2024-09-25</td>\n",
       "      <td>7376.854107</td>\n",
       "      <td>0.403826</td>\n",
       "      <td>0</td>\n",
       "      <td>0</td>\n",
       "    </tr>\n",
       "    <tr>\n",
       "      <th>996</th>\n",
       "      <td>1999</td>\n",
       "      <td>57</td>\n",
       "      <td>2843</td>\n",
       "      <td>Food</td>\n",
       "      <td>56.253886</td>\n",
       "      <td>34.780068</td>\n",
       "      <td>2022-02-03 12:00:00</td>\n",
       "      <td>2024-09-25</td>\n",
       "      <td>7376.854107</td>\n",
       "      <td>0.182423</td>\n",
       "      <td>0</td>\n",
       "      <td>0</td>\n",
       "    </tr>\n",
       "    <tr>\n",
       "      <th>997</th>\n",
       "      <td>2000</td>\n",
       "      <td>42</td>\n",
       "      <td>2423</td>\n",
       "      <td>Food</td>\n",
       "      <td>88.116384</td>\n",
       "      <td>86.971920</td>\n",
       "      <td>2022-01-02 19:00:00</td>\n",
       "      <td>2024-09-26</td>\n",
       "      <td>4853.024380</td>\n",
       "      <td>0.766330</td>\n",
       "      <td>0</td>\n",
       "      <td>0</td>\n",
       "    </tr>\n",
       "    <tr>\n",
       "      <th>998</th>\n",
       "      <td>2000</td>\n",
       "      <td>42</td>\n",
       "      <td>2570</td>\n",
       "      <td>Travel</td>\n",
       "      <td>69.666344</td>\n",
       "      <td>80.666984</td>\n",
       "      <td>2022-02-04 00:00:00</td>\n",
       "      <td>2024-09-26</td>\n",
       "      <td>4853.024380</td>\n",
       "      <td>0.330830</td>\n",
       "      <td>0</td>\n",
       "      <td>0</td>\n",
       "    </tr>\n",
       "    <tr>\n",
       "      <th>999</th>\n",
       "      <td>2000</td>\n",
       "      <td>42</td>\n",
       "      <td>2780</td>\n",
       "      <td>Other</td>\n",
       "      <td>55.011171</td>\n",
       "      <td>86.049092</td>\n",
       "      <td>2022-02-02 10:00:00</td>\n",
       "      <td>2024-09-26</td>\n",
       "      <td>4853.024380</td>\n",
       "      <td>0.574643</td>\n",
       "      <td>0</td>\n",
       "      <td>0</td>\n",
       "    </tr>\n",
       "  </tbody>\n",
       "</table>\n",
       "<p>1000 rows × 12 columns</p>\n",
       "</div>"
      ],
      "text/plain": [
       "     CustomerID  Age  MerchantID Category  TransactionAmount     Amount  \\\n",
       "0          1001   54        2627     Food          87.375444  33.670626   \n",
       "1          1003   40        2496   Travel          46.044172  30.980239   \n",
       "2          1004   30        2111    Other          36.534720  45.849784   \n",
       "3          1004   30        2184    Other          85.085061  11.167088   \n",
       "4          1005   46        2191    Other          82.852025  81.808651   \n",
       "..          ...  ...         ...      ...                ...        ...   \n",
       "995        1999   57        2789   Retail          33.876305  69.825072   \n",
       "996        1999   57        2843     Food          56.253886  34.780068   \n",
       "997        2000   42        2423     Food          88.116384  86.971920   \n",
       "998        2000   42        2570   Travel          69.666344  80.666984   \n",
       "999        2000   42        2780    Other          55.011171  86.049092   \n",
       "\n",
       "               Timestamp   LastLogin  AccountBalance  AnomalyScore  \\\n",
       "0    2022-02-02 18:00:00  2022-01-01     9507.272060      0.030921   \n",
       "1    2022-01-27 16:00:00  2022-01-03     1715.321989      0.961552   \n",
       "2    2022-02-08 08:00:00  2022-01-04     3101.509134      0.652188   \n",
       "3    2022-01-19 17:00:00  2022-01-04     3101.509134      0.525809   \n",
       "4    2022-01-25 22:00:00  2022-01-05     5405.766914      0.661493   \n",
       "..                   ...         ...             ...           ...   \n",
       "995  2022-01-10 19:00:00  2024-09-25     7376.854107      0.403826   \n",
       "996  2022-02-03 12:00:00  2024-09-25     7376.854107      0.182423   \n",
       "997  2022-01-02 19:00:00  2024-09-26     4853.024380      0.766330   \n",
       "998  2022-02-04 00:00:00  2024-09-26     4853.024380      0.330830   \n",
       "999  2022-02-02 10:00:00  2024-09-26     4853.024380      0.574643   \n",
       "\n",
       "     SuspiciousFlag  FraudIndicator  \n",
       "0                 0               0  \n",
       "1                 0               0  \n",
       "2                 0               0  \n",
       "3                 0               0  \n",
       "4                 0               0  \n",
       "..              ...             ...  \n",
       "995               0               0  \n",
       "996               0               0  \n",
       "997               0               0  \n",
       "998               0               0  \n",
       "999               0               0  \n",
       "\n",
       "[1000 rows x 12 columns]"
      ]
     },
     "execution_count": 20,
     "metadata": {},
     "output_type": "execute_result"
    }
   ],
   "source": [
    "data"
   ]
  },
  {
   "cell_type": "code",
   "execution_count": 21,
   "metadata": {},
   "outputs": [
    {
     "name": "stdout",
     "output_type": "stream",
     "text": [
      "Timestamp column is of the data type:object\n",
      "LastLogin column is of the data type:object\n"
     ]
    }
   ],
   "source": [
    "#converting timestamp and last login to datetime format\n",
    "print(f\"Timestamp column is of the data type:{data['Timestamp'].dtype}\")\n",
    "print(f\"LastLogin column is of the data type:{data['LastLogin'].dtype}\")"
   ]
  },
  {
   "cell_type": "code",
   "execution_count": 22,
   "metadata": {},
   "outputs": [],
   "source": [
    "#function to convert to datetime format\n",
    "def convert_to_datetime(data,column):\n",
    "    data[column]=pd.to_datetime(data[column])\n",
    "    return data[column].dtype"
   ]
  },
  {
   "cell_type": "code",
   "execution_count": 23,
   "metadata": {},
   "outputs": [
    {
     "data": {
      "text/plain": [
       "dtype('<M8[ns]')"
      ]
     },
     "execution_count": 23,
     "metadata": {},
     "output_type": "execute_result"
    }
   ],
   "source": [
    "convert_to_datetime(data,\"Timestamp\")"
   ]
  },
  {
   "cell_type": "code",
   "execution_count": 24,
   "metadata": {},
   "outputs": [
    {
     "data": {
      "text/plain": [
       "dtype('<M8[ns]')"
      ]
     },
     "execution_count": 24,
     "metadata": {},
     "output_type": "execute_result"
    }
   ],
   "source": [
    "convert_to_datetime(data,\"LastLogin\")"
   ]
  },
  {
   "cell_type": "code",
   "execution_count": 25,
   "metadata": {},
   "outputs": [
    {
     "name": "stdout",
     "output_type": "stream",
     "text": [
      "Timestamp column is of the data type:datetime64[ns]\n",
      "LastLogin column is of the data type:datetime64[ns]\n"
     ]
    }
   ],
   "source": [
    "print(f\"Timestamp column is of the data type:{data['Timestamp'].dtype}\")\n",
    "print(f\"LastLogin column is of the data type:{data['LastLogin'].dtype}\")"
   ]
  },
  {
   "cell_type": "code",
   "execution_count": 26,
   "metadata": {},
   "outputs": [
    {
     "name": "stdout",
     "output_type": "stream",
     "text": [
      "<class 'pandas.core.frame.DataFrame'>\n",
      "Int64Index: 1000 entries, 0 to 999\n",
      "Data columns (total 12 columns):\n",
      " #   Column             Non-Null Count  Dtype         \n",
      "---  ------             --------------  -----         \n",
      " 0   CustomerID         1000 non-null   int64         \n",
      " 1   Age                1000 non-null   int64         \n",
      " 2   MerchantID         1000 non-null   int64         \n",
      " 3   Category           1000 non-null   object        \n",
      " 4   TransactionAmount  1000 non-null   float64       \n",
      " 5   Amount             1000 non-null   float64       \n",
      " 6   Timestamp          1000 non-null   datetime64[ns]\n",
      " 7   LastLogin          1000 non-null   datetime64[ns]\n",
      " 8   AccountBalance     1000 non-null   float64       \n",
      " 9   AnomalyScore       1000 non-null   float64       \n",
      " 10  SuspiciousFlag     1000 non-null   int64         \n",
      " 11  FraudIndicator     1000 non-null   int64         \n",
      "dtypes: datetime64[ns](2), float64(4), int64(5), object(1)\n",
      "memory usage: 101.6+ KB\n"
     ]
    }
   ],
   "source": [
    "#checking for general information about the dataset\n",
    "data.info()"
   ]
  },
  {
   "cell_type": "code",
   "execution_count": 27,
   "metadata": {},
   "outputs": [
    {
     "data": {
      "text/html": [
       "<div>\n",
       "<style scoped>\n",
       "    .dataframe tbody tr th:only-of-type {\n",
       "        vertical-align: middle;\n",
       "    }\n",
       "\n",
       "    .dataframe tbody tr th {\n",
       "        vertical-align: top;\n",
       "    }\n",
       "\n",
       "    .dataframe thead th {\n",
       "        text-align: right;\n",
       "    }\n",
       "</style>\n",
       "<table border=\"1\" class=\"dataframe\">\n",
       "  <thead>\n",
       "    <tr style=\"text-align: right;\">\n",
       "      <th></th>\n",
       "      <th>CustomerID</th>\n",
       "      <th>Age</th>\n",
       "      <th>MerchantID</th>\n",
       "      <th>TransactionAmount</th>\n",
       "      <th>Amount</th>\n",
       "      <th>AccountBalance</th>\n",
       "      <th>AnomalyScore</th>\n",
       "      <th>SuspiciousFlag</th>\n",
       "      <th>FraudIndicator</th>\n",
       "    </tr>\n",
       "  </thead>\n",
       "  <tbody>\n",
       "    <tr>\n",
       "      <th>count</th>\n",
       "      <td>1000.000000</td>\n",
       "      <td>1000.000000</td>\n",
       "      <td>1000.000000</td>\n",
       "      <td>1000.000000</td>\n",
       "      <td>1000.000000</td>\n",
       "      <td>1000.000000</td>\n",
       "      <td>1000.000000</td>\n",
       "      <td>1000.000000</td>\n",
       "      <td>1000.000000</td>\n",
       "    </tr>\n",
       "    <tr>\n",
       "      <th>mean</th>\n",
       "      <td>1496.626000</td>\n",
       "      <td>39.848000</td>\n",
       "      <td>2504.701000</td>\n",
       "      <td>55.853826</td>\n",
       "      <td>55.394871</td>\n",
       "      <td>5715.455931</td>\n",
       "      <td>0.492282</td>\n",
       "      <td>0.025000</td>\n",
       "      <td>0.045000</td>\n",
       "    </tr>\n",
       "    <tr>\n",
       "      <th>std</th>\n",
       "      <td>289.229047</td>\n",
       "      <td>13.074932</td>\n",
       "      <td>288.414883</td>\n",
       "      <td>26.093606</td>\n",
       "      <td>25.070809</td>\n",
       "      <td>2540.517262</td>\n",
       "      <td>0.288423</td>\n",
       "      <td>0.156203</td>\n",
       "      <td>0.207408</td>\n",
       "    </tr>\n",
       "    <tr>\n",
       "      <th>min</th>\n",
       "      <td>1001.000000</td>\n",
       "      <td>18.000000</td>\n",
       "      <td>2001.000000</td>\n",
       "      <td>10.057864</td>\n",
       "      <td>10.006933</td>\n",
       "      <td>1056.301181</td>\n",
       "      <td>0.000234</td>\n",
       "      <td>0.000000</td>\n",
       "      <td>0.000000</td>\n",
       "    </tr>\n",
       "    <tr>\n",
       "      <th>25%</th>\n",
       "      <td>1239.000000</td>\n",
       "      <td>29.000000</td>\n",
       "      <td>2254.500000</td>\n",
       "      <td>33.875129</td>\n",
       "      <td>34.502315</td>\n",
       "      <td>3489.554711</td>\n",
       "      <td>0.251802</td>\n",
       "      <td>0.000000</td>\n",
       "      <td>0.000000</td>\n",
       "    </tr>\n",
       "    <tr>\n",
       "      <th>50%</th>\n",
       "      <td>1501.000000</td>\n",
       "      <td>39.000000</td>\n",
       "      <td>2500.500000</td>\n",
       "      <td>55.958313</td>\n",
       "      <td>57.844325</td>\n",
       "      <td>5753.007775</td>\n",
       "      <td>0.490242</td>\n",
       "      <td>0.000000</td>\n",
       "      <td>0.000000</td>\n",
       "    </tr>\n",
       "    <tr>\n",
       "      <th>75%</th>\n",
       "      <td>1739.250000</td>\n",
       "      <td>51.000000</td>\n",
       "      <td>2761.250000</td>\n",
       "      <td>77.589391</td>\n",
       "      <td>75.858576</td>\n",
       "      <td>7925.710167</td>\n",
       "      <td>0.741888</td>\n",
       "      <td>0.000000</td>\n",
       "      <td>0.000000</td>\n",
       "    </tr>\n",
       "    <tr>\n",
       "      <th>max</th>\n",
       "      <td>2000.000000</td>\n",
       "      <td>64.000000</td>\n",
       "      <td>3000.000000</td>\n",
       "      <td>99.784323</td>\n",
       "      <td>99.887410</td>\n",
       "      <td>9999.776239</td>\n",
       "      <td>0.999047</td>\n",
       "      <td>1.000000</td>\n",
       "      <td>1.000000</td>\n",
       "    </tr>\n",
       "  </tbody>\n",
       "</table>\n",
       "</div>"
      ],
      "text/plain": [
       "        CustomerID          Age   MerchantID  TransactionAmount       Amount  \\\n",
       "count  1000.000000  1000.000000  1000.000000        1000.000000  1000.000000   \n",
       "mean   1496.626000    39.848000  2504.701000          55.853826    55.394871   \n",
       "std     289.229047    13.074932   288.414883          26.093606    25.070809   \n",
       "min    1001.000000    18.000000  2001.000000          10.057864    10.006933   \n",
       "25%    1239.000000    29.000000  2254.500000          33.875129    34.502315   \n",
       "50%    1501.000000    39.000000  2500.500000          55.958313    57.844325   \n",
       "75%    1739.250000    51.000000  2761.250000          77.589391    75.858576   \n",
       "max    2000.000000    64.000000  3000.000000          99.784323    99.887410   \n",
       "\n",
       "       AccountBalance  AnomalyScore  SuspiciousFlag  FraudIndicator  \n",
       "count     1000.000000   1000.000000     1000.000000     1000.000000  \n",
       "mean      5715.455931      0.492282        0.025000        0.045000  \n",
       "std       2540.517262      0.288423        0.156203        0.207408  \n",
       "min       1056.301181      0.000234        0.000000        0.000000  \n",
       "25%       3489.554711      0.251802        0.000000        0.000000  \n",
       "50%       5753.007775      0.490242        0.000000        0.000000  \n",
       "75%       7925.710167      0.741888        0.000000        0.000000  \n",
       "max       9999.776239      0.999047        1.000000        1.000000  "
      ]
     },
     "execution_count": 27,
     "metadata": {},
     "output_type": "execute_result"
    }
   ],
   "source": [
    "#checking for statistical information about the dataset\n",
    "data.describe()"
   ]
  },
  {
   "cell_type": "code",
   "execution_count": 28,
   "metadata": {},
   "outputs": [
    {
     "data": {
      "text/html": [
       "<div>\n",
       "<style scoped>\n",
       "    .dataframe tbody tr th:only-of-type {\n",
       "        vertical-align: middle;\n",
       "    }\n",
       "\n",
       "    .dataframe tbody tr th {\n",
       "        vertical-align: top;\n",
       "    }\n",
       "\n",
       "    .dataframe thead th {\n",
       "        text-align: right;\n",
       "    }\n",
       "</style>\n",
       "<table border=\"1\" class=\"dataframe\">\n",
       "  <thead>\n",
       "    <tr style=\"text-align: right;\">\n",
       "      <th></th>\n",
       "      <th>CustomerID</th>\n",
       "      <th>Age</th>\n",
       "      <th>MerchantID</th>\n",
       "      <th>Category</th>\n",
       "      <th>TransactionAmount</th>\n",
       "      <th>Amount</th>\n",
       "      <th>Timestamp</th>\n",
       "      <th>LastLogin</th>\n",
       "      <th>AccountBalance</th>\n",
       "      <th>AnomalyScore</th>\n",
       "      <th>SuspiciousFlag</th>\n",
       "      <th>FraudIndicator</th>\n",
       "    </tr>\n",
       "  </thead>\n",
       "  <tbody>\n",
       "    <tr>\n",
       "      <th>count</th>\n",
       "      <td>1000</td>\n",
       "      <td>1000</td>\n",
       "      <td>1000</td>\n",
       "      <td>1000</td>\n",
       "      <td>1000.000000</td>\n",
       "      <td>1000.00000</td>\n",
       "      <td>1000</td>\n",
       "      <td>1000</td>\n",
       "      <td>1000.000000</td>\n",
       "      <td>1000.000000</td>\n",
       "      <td>1000</td>\n",
       "      <td>1000</td>\n",
       "    </tr>\n",
       "    <tr>\n",
       "      <th>unique</th>\n",
       "      <td>636</td>\n",
       "      <td>47</td>\n",
       "      <td>651</td>\n",
       "      <td>5</td>\n",
       "      <td>1000.000000</td>\n",
       "      <td>1000.00000</td>\n",
       "      <td>1000</td>\n",
       "      <td>636</td>\n",
       "      <td>636.000000</td>\n",
       "      <td>1000.000000</td>\n",
       "      <td>2</td>\n",
       "      <td>2</td>\n",
       "    </tr>\n",
       "    <tr>\n",
       "      <th>top</th>\n",
       "      <td>1424</td>\n",
       "      <td>33</td>\n",
       "      <td>2239</td>\n",
       "      <td>Other</td>\n",
       "      <td>49.862992</td>\n",
       "      <td>25.89368</td>\n",
       "      <td>2022-02-05 12:00:00</td>\n",
       "      <td>2024-04-04 00:00:00</td>\n",
       "      <td>9674.062164</td>\n",
       "      <td>0.934851</td>\n",
       "      <td>0</td>\n",
       "      <td>0</td>\n",
       "    </tr>\n",
       "    <tr>\n",
       "      <th>freq</th>\n",
       "      <td>6</td>\n",
       "      <td>37</td>\n",
       "      <td>4</td>\n",
       "      <td>210</td>\n",
       "      <td>1.000000</td>\n",
       "      <td>1.00000</td>\n",
       "      <td>1</td>\n",
       "      <td>6</td>\n",
       "      <td>6.000000</td>\n",
       "      <td>1.000000</td>\n",
       "      <td>975</td>\n",
       "      <td>955</td>\n",
       "    </tr>\n",
       "  </tbody>\n",
       "</table>\n",
       "</div>"
      ],
      "text/plain": [
       "        CustomerID   Age  MerchantID Category  TransactionAmount      Amount  \\\n",
       "count         1000  1000        1000     1000        1000.000000  1000.00000   \n",
       "unique         636    47         651        5        1000.000000  1000.00000   \n",
       "top           1424    33        2239    Other          49.862992    25.89368   \n",
       "freq             6    37           4      210           1.000000     1.00000   \n",
       "\n",
       "                  Timestamp            LastLogin  AccountBalance  \\\n",
       "count                  1000                 1000     1000.000000   \n",
       "unique                 1000                  636      636.000000   \n",
       "top     2022-02-05 12:00:00  2024-04-04 00:00:00     9674.062164   \n",
       "freq                      1                    6        6.000000   \n",
       "\n",
       "        AnomalyScore  SuspiciousFlag  FraudIndicator  \n",
       "count    1000.000000            1000            1000  \n",
       "unique   1000.000000               2               2  \n",
       "top         0.934851               0               0  \n",
       "freq        1.000000             975             955  "
      ]
     },
     "execution_count": 28,
     "metadata": {},
     "output_type": "execute_result"
    }
   ],
   "source": [
    "#checking for unique information about the dataset columns\n",
    "data.astype(\"object\").describe()"
   ]
  },
  {
   "cell_type": "markdown",
   "metadata": {},
   "source": [
    "## Univariate Analysis"
   ]
  },
  {
   "cell_type": "code",
   "execution_count": 29,
   "metadata": {},
   "outputs": [],
   "source": [
    "#plotting a histogram to check the distribution\n",
    "def plot_histogram(data, column_name):\n",
    "    fig, ax = plt.subplots(figsize=(8,4))\n",
    "    data[column_name].plot(kind=\"hist\", ax=ax, bins=30, edgecolor=\"black\")\n",
    "    ax.set_title(f\"Distribution of {column_name}\", fontsize=14)\n",
    "    ax.set_xlabel(column_name, fontsize=12)\n",
    "    ax.set_ylabel(\"Frequency\", fontsize=12)\n",
    "    plt.tight_layout()\n",
    "    plt.show()"
   ]
  },
  {
   "cell_type": "code",
   "execution_count": 30,
   "metadata": {},
   "outputs": [
    {
     "data": {
      "image/png": "[encoded data removed]",
      "text/plain": [
       "<Figure size 576x288 with 1 Axes>"
      ]
     },
     "metadata": {
      "needs_background": "light"
     },
     "output_type": "display_data"
    }
   ],
   "source": [
    "#distribution of ages \n",
    "plot_histogram(data,\"Age\")"
   ]
  },
  {
   "cell_type": "code",
   "execution_count": 31,
   "metadata": {},
   "outputs": [
    {
     "data": {
      "image/png": "[encoded data removed]",
      "text/plain": [
       "<Figure size 576x288 with 1 Axes>"
      ]
     },
     "metadata": {
      "needs_background": "light"
     },
     "output_type": "display_data"
    }
   ],
   "source": [
    "plot_histogram(data,\"CustomerID\")"
   ]
  },
  {
   "cell_type": "code",
   "execution_count": 32,
   "metadata": {},
   "outputs": [
    {
     "data": {
      "image/png": "[encoded data removed]",
      "text/plain": [
       "<Figure size 576x288 with 1 Axes>"
      ]
     },
     "metadata": {
      "needs_background": "light"
     },
     "output_type": "display_data"
    }
   ],
   "source": [
    "plot_histogram(data,\"Amount\")"
   ]
  },
  {
   "cell_type": "code",
   "execution_count": 33,
   "metadata": {},
   "outputs": [
    {
     "data": {
      "image/png": "[encoded data removed]",
      "text/plain": [
       "<Figure size 576x288 with 1 Axes>"
      ]
     },
     "metadata": {
      "needs_background": "light"
     },
     "output_type": "display_data"
    }
   ],
   "source": [
    "plot_histogram(data,\"AnomalyScore\")"
   ]
  },
  {
   "cell_type": "code",
   "execution_count": 34,
   "metadata": {},
   "outputs": [
    {
     "data": {
      "image/png": "[encoded data removed]",
      "text/plain": [
       "<Figure size 576x288 with 1 Axes>"
      ]
     },
     "metadata": {
      "needs_background": "light"
     },
     "output_type": "display_data"
    }
   ],
   "source": [
    "plot_histogram(data,\"SuspiciousFlag\")"
   ]
  },
  {
   "cell_type": "code",
   "execution_count": 35,
   "metadata": {},
   "outputs": [
    {
     "data": {
      "image/png": "[encoded data removed]",
      "text/plain": [
       "<Figure size 576x288 with 1 Axes>"
      ]
     },
     "metadata": {
      "needs_background": "light"
     },
     "output_type": "display_data"
    }
   ],
   "source": [
    "plot_histogram(data,\"FraudIndicator\")"
   ]
  },
  {
   "cell_type": "code",
   "execution_count": 36,
   "metadata": {},
   "outputs": [
    {
     "data": {
      "image/png": "[encoded data removed]",
      "text/plain": [
       "<Figure size 576x288 with 1 Axes>"
      ]
     },
     "metadata": {
      "needs_background": "light"
     },
     "output_type": "display_data"
    }
   ],
   "source": [
    "#distribution of AnomalyScore\n",
    "plot_histogram(data,\"AnomalyScore\")"
   ]
  },
  {
   "cell_type": "code",
   "execution_count": 43,
   "metadata": {},
   "outputs": [
    {
     "data": {
      "image/png": "[encoded data removed]",
      "text/plain": [
       "<Figure size 432x288 with 1 Axes>"
      ]
     },
     "metadata": {
      "needs_background": "light"
     },
     "output_type": "display_data"
    }
   ],
   "source": [
    "#categorical\n",
    "counts = data[\"Category\"].value_counts()\n",
    "plt.bar(counts.index, counts.values)\n",
    "plt.xlabel(\"Category\")\n",
    "plt.ylabel(\"Count\")\n",
    "plt.title(\"Category Counts\")\n",
    "plt.show()"
   ]
  },
  {
   "cell_type": "markdown",
   "metadata": {},
   "source": [
    "### Bivariate analysis"
   ]
  },
  {
   "cell_type": "code",
   "execution_count": 48,
   "metadata": {},
   "outputs": [
    {
     "data": {
      "text/plain": [
       "<AxesSubplot:>"
      ]
     },
     "execution_count": 48,
     "metadata": {},
     "output_type": "execute_result"
    },
    {
     "data": {
      "image/png": "[encoded data removed]",
      "text/plain": [
       "<Figure size 432x288 with 2 Axes>"
      ]
     },
     "metadata": {
      "needs_background": "light"
     },
     "output_type": "display_data"
    }
   ],
   "source": [
    "## Bivariate Analysis\n",
    "correlation=data.select_dtypes(exclude=\"object\").corr()\n",
    "#plotting a heatmap for visualization\n",
    "sns.heatmap(correlation);"
   ]
  },
  {
   "cell_type": "markdown",
   "metadata": {},
   "source": [
    "There is no linear relationship between the variables."
   ]
  },
  {
   "cell_type": "markdown",
   "metadata": {},
   "source": [
    "#### What is the relationship between anomaly score,suspicious flag and fraud indicator"
   ]
  },
  {
   "cell_type": "code",
   "execution_count": 50,
   "metadata": {},
   "outputs": [
    {
     "data": {
      "text/plain": [
       "<AxesSubplot:>"
      ]
     },
     "execution_count": 50,
     "metadata": {},
     "output_type": "execute_result"
    },
    {
     "data": {
      "image/png": "[encoded data removed]",
      "text/plain": [
       "<Figure size 432x288 with 2 Axes>"
      ]
     },
     "metadata": {
      "needs_background": "light"
     },
     "output_type": "display_data"
    }
   ],
   "source": [
    "columns=[\"AnomalyScore\",\"FraudIndicator\",\"SuspiciousFlag\"]\n",
    "sns.heatmap(data[columns].corr()):"
   ]
  },
  {
   "cell_type": "code",
   "execution_count": 53,
   "metadata": {},
   "outputs": [
    {
     "name": "stdout",
     "output_type": "stream",
     "text": [
      "<class 'pandas.core.frame.DataFrame'>\n",
      "Int64Index: 1000 entries, 0 to 999\n",
      "Data columns (total 12 columns):\n",
      " #   Column             Non-Null Count  Dtype         \n",
      "---  ------             --------------  -----         \n",
      " 0   CustomerID         1000 non-null   int64         \n",
      " 1   Age                1000 non-null   int64         \n",
      " 2   MerchantID         1000 non-null   int64         \n",
      " 3   Category           1000 non-null   object        \n",
      " 4   TransactionAmount  1000 non-null   float64       \n",
      " 5   Amount             1000 non-null   float64       \n",
      " 6   Timestamp          1000 non-null   datetime64[ns]\n",
      " 7   LastLogin          1000 non-null   datetime64[ns]\n",
      " 8   AccountBalance     1000 non-null   float64       \n",
      " 9   AnomalyScore       1000 non-null   float64       \n",
      " 10  SuspiciousFlag     1000 non-null   int64         \n",
      " 11  FraudIndicator     1000 non-null   int64         \n",
      "dtypes: datetime64[ns](2), float64(4), int64(5), object(1)\n",
      "memory usage: 101.6+ KB\n"
     ]
    }
   ],
   "source": []
  },
  {
   "cell_type": "markdown",
   "metadata": {},
   "source": [
    "### Scatter Plot of AnomalyScore vs. TransactionAmount"
   ]
  },
  {
   "cell_type": "code",
   "execution_count": 55,
   "metadata": {},
   "outputs": [
    {
     "data": {
      "image/png": "[encoded data removed]",
      "text/plain": [
       "<Figure size 720x432 with 1 Axes>"
      ]
     },
     "metadata": {
      "needs_background": "light"
     },
     "output_type": "display_data"
    }
   ],
   "source": [
    "plt.figure(figsize=(10, 6))\n",
    "sns.scatterplot(x='AnomalyScore', y='TransactionAmount', hue='FraudIndicator', data=data)\n",
    "plt.title('Anomaly Score vs. Transaction Amount')\n",
    "plt.xlabel('Anomaly Score')\n",
    "plt.ylabel('Transaction Amount')\n",
    "plt.show()"
   ]
  },
  {
   "cell_type": "code",
   "execution_count": null,
   "metadata": {},
   "outputs": [],
   "source": []
  },
  {
   "cell_type": "code",
   "execution_count": 61,
   "metadata": {},
   "outputs": [
    {
     "data": {
      "application/vnd.plotly.v1+json": {
       "config": {
        "plotlyServerURL": "https://plot.ly"
       },
       "data": [
        {
         "alignmentgroup": "True",
         "bingroup": "x",
         "hovertemplate": "Fraud Indicator=0<br>Hour of Day=%{x}<br>count=%{y}<extra></extra>",
         "legendgroup": "0",
         "marker": {
          "color": "#636efa"
         },
         "name": "0",
         "nbinsx": 24,
         "offsetgroup": "0",
         "orientation": "v",
         "showlegend": true,
         "type": "histogram",
         "x": [
          18,
          16,
          8,
          17,
          22,
          4,
          11,
          1,
          5,
          5,
          19,
          8,
          16,
          23,
          0,
          21,
          10,
          20,
          14,
          18,
          4,
          4,
          3,
          23,
          21,
          2,
          10,
          23,
          17,
          18,
          1,
          20,
          8,
          20,
          12,
          18,
          8,
          22,
          15,
          6,
          14,
          2,
          11,
          14,
          20,
          6,
          8,
          15,
          19,
          0,
          21,
          14,
          17,
          18,
          22,
          13,
          0,
          4,
          11,
          8,
          13,
          22,
          12,
          6,
          8,
          3,
          2,
          5,
          16,
          13,
          21,
          18,
          17,
          8,
          15,
          13,
          13,
          8,
          10,
          16,
          13,
          23,
          21,
          4,
          5,
          3,
          8,
          14,
          12,
          9,
          4,
          20,
          20,
          18,
          12,
          15,
          17,
          5,
          21,
          10,
          22,
          3,
          2,
          3,
          9,
          21,
          5,
          5,
          11,
          1,
          17,
          18,
          4,
          21,
          11,
          8,
          9,
          13,
          13,
          17,
          23,
          0,
          11,
          15,
          23,
          20,
          2,
          0,
          6,
          1,
          20,
          15,
          14,
          6,
          16,
          22,
          6,
          16,
          16,
          20,
          2,
          7,
          16,
          7,
          22,
          19,
          9,
          22,
          7,
          11,
          9,
          10,
          9,
          20,
          0,
          22,
          12,
          15,
          15,
          8,
          16,
          22,
          7,
          4,
          1,
          15,
          0,
          9,
          1,
          7,
          9,
          12,
          10,
          6,
          19,
          1,
          10,
          21,
          16,
          18,
          15,
          3,
          14,
          6,
          5,
          7,
          14,
          17,
          3,
          5,
          16,
          8,
          0,
          22,
          4,
          1,
          3,
          6,
          6,
          17,
          23,
          0,
          0,
          8,
          12,
          17,
          0,
          19,
          5,
          22,
          5,
          21,
          14,
          14,
          10,
          4,
          20,
          13,
          9,
          0,
          4,
          5,
          15,
          13,
          20,
          3,
          19,
          17,
          4,
          15,
          2,
          21,
          4,
          1,
          6,
          6,
          16,
          1,
          11,
          23,
          8,
          21,
          2,
          2,
          9,
          9,
          0,
          15,
          5,
          9,
          14,
          13,
          13,
          1,
          1,
          1,
          22,
          21,
          23,
          2,
          17,
          23,
          17,
          10,
          0,
          3,
          1,
          3,
          7,
          10,
          18,
          18,
          18,
          21,
          16,
          11,
          17,
          23,
          18,
          9,
          21,
          4,
          1,
          14,
          20,
          13,
          7,
          4,
          4,
          19,
          1,
          1,
          13,
          10,
          13,
          21,
          11,
          8,
          22,
          11,
          21,
          4,
          19,
          6,
          6,
          17,
          22,
          15,
          4,
          19,
          15,
          12,
          18,
          4,
          23,
          12,
          14,
          16,
          9,
          19,
          10,
          3,
          10,
          2,
          9,
          20,
          3,
          11,
          10,
          18,
          14,
          4,
          20,
          15,
          5,
          3,
          1,
          5,
          15,
          11,
          13,
          9,
          12,
          11,
          20,
          16,
          10,
          16,
          22,
          11,
          1,
          17,
          11,
          3,
          14,
          0,
          8,
          3,
          7,
          12,
          8,
          0,
          2,
          2,
          20,
          6,
          13,
          1,
          0,
          1,
          7,
          17,
          18,
          1,
          6,
          1,
          12,
          21,
          3,
          17,
          5,
          14,
          19,
          22,
          9,
          11,
          16,
          5,
          10,
          21,
          18,
          20,
          11,
          7,
          19,
          11,
          1,
          16,
          3,
          12,
          20,
          19,
          19,
          3,
          4,
          3,
          15,
          20,
          22,
          10,
          2,
          11,
          4,
          11,
          8,
          6,
          8,
          17,
          7,
          8,
          3,
          3,
          23,
          7,
          19,
          21,
          13,
          11,
          3,
          2,
          20,
          14,
          8,
          16,
          19,
          14,
          16,
          8,
          23,
          12,
          10,
          17,
          2,
          5,
          15,
          2,
          23,
          10,
          19,
          3,
          12,
          19,
          4,
          11,
          16,
          13,
          7,
          6,
          23,
          5,
          2,
          8,
          1,
          4,
          18,
          2,
          15,
          21,
          18,
          15,
          8,
          3,
          11,
          2,
          8,
          18,
          13,
          3,
          12,
          16,
          23,
          22,
          15,
          15,
          19,
          22,
          18,
          16,
          20,
          20,
          4,
          17,
          23,
          12,
          10,
          11,
          8,
          21,
          9,
          3,
          17,
          1,
          11,
          23,
          5,
          3,
          20,
          0,
          14,
          10,
          22,
          12,
          3,
          2,
          4,
          16,
          23,
          2,
          14,
          7,
          10,
          16,
          22,
          5,
          11,
          11,
          19,
          12,
          7,
          8,
          15,
          21,
          2,
          1,
          5,
          23,
          21,
          20,
          11,
          4,
          17,
          9,
          0,
          12,
          12,
          14,
          6,
          8,
          0,
          1,
          17,
          22,
          12,
          1,
          1,
          9,
          19,
          21,
          9,
          20,
          4,
          23,
          2,
          15,
          10,
          6,
          17,
          21,
          8,
          17,
          15,
          11,
          14,
          10,
          6,
          20,
          17,
          5,
          9,
          18,
          1,
          9,
          5,
          4,
          2,
          22,
          16,
          2,
          9,
          17,
          14,
          11,
          19,
          21,
          14,
          7,
          7,
          22,
          8,
          7,
          13,
          8,
          6,
          2,
          13,
          20,
          7,
          15,
          6,
          6,
          0,
          14,
          12,
          4,
          4,
          12,
          20,
          6,
          4,
          18,
          2,
          6,
          13,
          3,
          13,
          23,
          20,
          4,
          7,
          5,
          19,
          15,
          21,
          21,
          6,
          10,
          13,
          4,
          6,
          16,
          22,
          7,
          4,
          18,
          3,
          23,
          12,
          9,
          11,
          15,
          15,
          13,
          7,
          16,
          6,
          9,
          17,
          18,
          2,
          10,
          7,
          8,
          12,
          5,
          10,
          5,
          23,
          20,
          13,
          15,
          18,
          7,
          15,
          9,
          2,
          18,
          3,
          7,
          13,
          8,
          14,
          22,
          6,
          13,
          5,
          17,
          14,
          9,
          13,
          8,
          12,
          19,
          22,
          1,
          10,
          16,
          17,
          23,
          17,
          3,
          10,
          22,
          12,
          19,
          22,
          10,
          20,
          1,
          18,
          0,
          22,
          10,
          10,
          9,
          14,
          6,
          3,
          4,
          15,
          2,
          9,
          22,
          23,
          23,
          4,
          1,
          16,
          3,
          5,
          9,
          7,
          0,
          22,
          20,
          10,
          9,
          11,
          12,
          20,
          20,
          16,
          14,
          13,
          4,
          21,
          6,
          12,
          21,
          5,
          5,
          14,
          19,
          6,
          11,
          21,
          6,
          11,
          12,
          18,
          13,
          5,
          1,
          14,
          0,
          22,
          19,
          7,
          0,
          3,
          0,
          12,
          17,
          21,
          7,
          16,
          10,
          9,
          11,
          19,
          9,
          9,
          14,
          0,
          18,
          14,
          16,
          21,
          3,
          19,
          18,
          5,
          18,
          16,
          21,
          14,
          3,
          12,
          18,
          12,
          5,
          21,
          10,
          22,
          0,
          0,
          5,
          23,
          13,
          11,
          16,
          10,
          2,
          15,
          7,
          0,
          18,
          1,
          15,
          4,
          16,
          21,
          1,
          5,
          17,
          6,
          11,
          3,
          7,
          0,
          13,
          9,
          2,
          2,
          10,
          15,
          7,
          11,
          7,
          5,
          14,
          2,
          22,
          23,
          15,
          2,
          20,
          0,
          19,
          13,
          23,
          21,
          22,
          23,
          5,
          19,
          3,
          0,
          18,
          13,
          7,
          6,
          23,
          12,
          1,
          5,
          18,
          7,
          14,
          11,
          12,
          7,
          16,
          20,
          4,
          0,
          8,
          23,
          12,
          1,
          12,
          20,
          14,
          0,
          19,
          13,
          18,
          16,
          16,
          17,
          3,
          11,
          17,
          22,
          2,
          0,
          18,
          4,
          15,
          9,
          9,
          0,
          6,
          8,
          8,
          2,
          15,
          11,
          12,
          2,
          14,
          21,
          16,
          6,
          13,
          1,
          15,
          12,
          1,
          7,
          23,
          23,
          19,
          17,
          13,
          23,
          2,
          15,
          8,
          10,
          18,
          9,
          19,
          14,
          5,
          19,
          13,
          17,
          18,
          8,
          10,
          14,
          7,
          23,
          12,
          9,
          21,
          7,
          13,
          17,
          7,
          19,
          12,
          19,
          0,
          10
         ],
         "xaxis": "x",
         "yaxis": "y"
        },
        {
         "alignmentgroup": "True",
         "bingroup": "x",
         "hovertemplate": "Fraud Indicator=1<br>Hour of Day=%{x}<br>count=%{y}<extra></extra>",
         "legendgroup": "1",
         "marker": {
          "color": "#EF553B"
         },
         "name": "1",
         "nbinsx": 24,
         "offsetgroup": "1",
         "orientation": "v",
         "showlegend": true,
         "type": "histogram",
         "x": [
          7,
          8,
          0,
          14,
          2,
          5,
          15,
          17,
          6,
          23,
          6,
          2,
          8,
          5,
          3,
          6,
          9,
          20,
          19,
          0,
          19,
          4,
          21,
          19,
          18,
          20,
          17,
          6,
          22,
          14,
          0,
          20,
          16,
          0,
          22,
          22,
          23,
          23,
          10,
          9,
          7,
          1,
          13,
          19,
          10
         ],
         "xaxis": "x",
         "yaxis": "y"
        }
       ],
       "layout": {
        "bargap": 0.1,
        "barmode": "stack",
        "legend": {
         "title": {
          "text": "Fraud Indicator"
         },
         "tracegroupgap": 0
        },
        "showlegend": true,
        "template": {
         "data": {
          "bar": [
           {
            "error_x": {
             "color": "#2a3f5f"
            },
            "error_y": {
             "color": "#2a3f5f"
            },
            "marker": {
             "line": {
              "color": "#E5ECF6",
              "width": 0.5
             }
            },
            "type": "bar"
           }
          ],
          "barpolar": [
           {
            "marker": {
             "line": {
              "color": "#E5ECF6",
              "width": 0.5
             }
            },
            "type": "barpolar"
           }
          ],
          "carpet": [
           {
            "aaxis": {
             "endlinecolor": "#2a3f5f",
             "gridcolor": "white",
             "linecolor": "white",
             "minorgridcolor": "white",
             "startlinecolor": "#2a3f5f"
            },
            "baxis": {
             "endlinecolor": "#2a3f5f",
             "gridcolor": "white",
             "linecolor": "white",
             "minorgridcolor": "white",
             "startlinecolor": "#2a3f5f"
            },
            "type": "carpet"
           }
          ],
          "choropleth": [
           {
            "colorbar": {
             "outlinewidth": 0,
             "ticks": ""
            },
            "type": "choropleth"
           }
          ],
          "contour": [
           {
            "colorbar": {
             "outlinewidth": 0,
             "ticks": ""
            },
            "colorscale": [
             [
              0,
              "#0d0887"
             ],
             [
              0.1111111111111111,
              "#46039f"
             ],
             [
              0.2222222222222222,
              "#7201a8"
             ],
             [
              0.3333333333333333,
              "#9c179e"
             ],
             [
              0.4444444444444444,
              "#bd3786"
             ],
             [
              0.5555555555555556,
              "#d8576b"
             ],
             [
              0.6666666666666666,
              "#ed7953"
             ],
             [
              0.7777777777777778,
              "#fb9f3a"
             ],
             [
              0.8888888888888888,
              "#fdca26"
             ],
             [
              1,
              "#f0f921"
             ]
            ],
            "type": "contour"
           }
          ],
          "contourcarpet": [
           {
            "colorbar": {
             "outlinewidth": 0,
             "ticks": ""
            },
            "type": "contourcarpet"
           }
          ],
          "heatmap": [
           {
            "colorbar": {
             "outlinewidth": 0,
             "ticks": ""
            },
            "colorscale": [
             [
              0,
              "#0d0887"
             ],
             [
              0.1111111111111111,
              "#46039f"
             ],
             [
              0.2222222222222222,
              "#7201a8"
             ],
             [
              0.3333333333333333,
              "#9c179e"
             ],
             [
              0.4444444444444444,
              "#bd3786"
             ],
             [
              0.5555555555555556,
              "#d8576b"
             ],
             [
              0.6666666666666666,
              "#ed7953"
             ],
             [
              0.7777777777777778,
              "#fb9f3a"
             ],
             [
              0.8888888888888888,
              "#fdca26"
             ],
             [
              1,
              "#f0f921"
             ]
            ],
            "type": "heatmap"
           }
          ],
          "heatmapgl": [
           {
            "colorbar": {
             "outlinewidth": 0,
             "ticks": ""
            },
            "colorscale": [
             [
              0,
              "#0d0887"
             ],
             [
              0.1111111111111111,
              "#46039f"
             ],
             [
              0.2222222222222222,
              "#7201a8"
             ],
             [
              0.3333333333333333,
              "#9c179e"
             ],
             [
              0.4444444444444444,
              "#bd3786"
             ],
             [
              0.5555555555555556,
              "#d8576b"
             ],
             [
              0.6666666666666666,
              "#ed7953"
             ],
             [
              0.7777777777777778,
              "#fb9f3a"
             ],
             [
              0.8888888888888888,
              "#fdca26"
             ],
             [
              1,
              "#f0f921"
             ]
            ],
            "type": "heatmapgl"
           }
          ],
          "histogram": [
           {
            "marker": {
             "colorbar": {
              "outlinewidth": 0,
              "ticks": ""
             }
            },
            "type": "histogram"
           }
          ],
          "histogram2d": [
           {
            "colorbar": {
             "outlinewidth": 0,
             "ticks": ""
            },
            "colorscale": [
             [
              0,
              "#0d0887"
             ],
             [
              0.1111111111111111,
              "#46039f"
             ],
             [
              0.2222222222222222,
              "#7201a8"
             ],
             [
              0.3333333333333333,
              "#9c179e"
             ],
             [
              0.4444444444444444,
              "#bd3786"
             ],
             [
              0.5555555555555556,
              "#d8576b"
             ],
             [
              0.6666666666666666,
              "#ed7953"
             ],
             [
              0.7777777777777778,
              "#fb9f3a"
             ],
             [
              0.8888888888888888,
              "#fdca26"
             ],
             [
              1,
              "#f0f921"
             ]
            ],
            "type": "histogram2d"
           }
          ],
          "histogram2dcontour": [
           {
            "colorbar": {
             "outlinewidth": 0,
             "ticks": ""
            },
            "colorscale": [
             [
              0,
              "#0d0887"
             ],
             [
              0.1111111111111111,
              "#46039f"
             ],
             [
              0.2222222222222222,
              "#7201a8"
             ],
             [
              0.3333333333333333,
              "#9c179e"
             ],
             [
              0.4444444444444444,
              "#bd3786"
             ],
             [
              0.5555555555555556,
              "#d8576b"
             ],
             [
              0.6666666666666666,
              "#ed7953"
             ],
             [
              0.7777777777777778,
              "#fb9f3a"
             ],
             [
              0.8888888888888888,
              "#fdca26"
             ],
             [
              1,
              "#f0f921"
             ]
            ],
            "type": "histogram2dcontour"
           }
          ],
          "mesh3d": [
           {
            "colorbar": {
             "outlinewidth": 0,
             "ticks": ""
            },
            "type": "mesh3d"
           }
          ],
          "parcoords": [
           {
            "line": {
             "colorbar": {
              "outlinewidth": 0,
              "ticks": ""
             }
            },
            "type": "parcoords"
           }
          ],
          "pie": [
           {
            "automargin": true,
            "type": "pie"
           }
          ],
          "scatter": [
           {
            "marker": {
             "colorbar": {
              "outlinewidth": 0,
              "ticks": ""
             }
            },
            "type": "scatter"
           }
          ],
          "scatter3d": [
           {
            "line": {
             "colorbar": {
              "outlinewidth": 0,
              "ticks": ""
             }
            },
            "marker": {
             "colorbar": {
              "outlinewidth": 0,
              "ticks": ""
             }
            },
            "type": "scatter3d"
           }
          ],
          "scattercarpet": [
           {
            "marker": {
             "colorbar": {
              "outlinewidth": 0,
              "ticks": ""
             }
            },
            "type": "scattercarpet"
           }
          ],
          "scattergeo": [
           {
            "marker": {
             "colorbar": {
              "outlinewidth": 0,
              "ticks": ""
             }
            },
            "type": "scattergeo"
           }
          ],
          "scattergl": [
           {
            "marker": {
             "colorbar": {
              "outlinewidth": 0,
              "ticks": ""
             }
            },
            "type": "scattergl"
           }
          ],
          "scattermapbox": [
           {
            "marker": {
             "colorbar": {
              "outlinewidth": 0,
              "ticks": ""
             }
            },
            "type": "scattermapbox"
           }
          ],
          "scatterpolar": [
           {
            "marker": {
             "colorbar": {
              "outlinewidth": 0,
              "ticks": ""
             }
            },
            "type": "scatterpolar"
           }
          ],
          "scatterpolargl": [
           {
            "marker": {
             "colorbar": {
              "outlinewidth": 0,
              "ticks": ""
             }
            },
            "type": "scatterpolargl"
           }
          ],
          "scatterternary": [
           {
            "marker": {
             "colorbar": {
              "outlinewidth": 0,
              "ticks": ""
             }
            },
            "type": "scatterternary"
           }
          ],
          "surface": [
           {
            "colorbar": {
             "outlinewidth": 0,
             "ticks": ""
            },
            "colorscale": [
             [
              0,
              "#0d0887"
             ],
             [
              0.1111111111111111,
              "#46039f"
             ],
             [
              0.2222222222222222,
              "#7201a8"
             ],
             [
              0.3333333333333333,
              "#9c179e"
             ],
             [
              0.4444444444444444,
              "#bd3786"
             ],
             [
              0.5555555555555556,
              "#d8576b"
             ],
             [
              0.6666666666666666,
              "#ed7953"
             ],
             [
              0.7777777777777778,
              "#fb9f3a"
             ],
             [
              0.8888888888888888,
              "#fdca26"
             ],
             [
              1,
              "#f0f921"
             ]
            ],
            "type": "surface"
           }
          ],
          "table": [
           {
            "cells": {
             "fill": {
              "color": "#EBF0F8"
             },
             "line": {
              "color": "white"
             }
            },
            "header": {
             "fill": {
              "color": "#C8D4E3"
             },
             "line": {
              "color": "white"
             }
            },
            "type": "table"
           }
          ]
         },
         "layout": {
          "annotationdefaults": {
           "arrowcolor": "#2a3f5f",
           "arrowhead": 0,
           "arrowwidth": 1
          },
          "coloraxis": {
           "colorbar": {
            "outlinewidth": 0,
            "ticks": ""
           }
          },
          "colorscale": {
           "diverging": [
            [
             0,
             "#8e0152"
            ],
            [
             0.1,
             "#c51b7d"
            ],
            [
             0.2,
             "#de77ae"
            ],
            [
             0.3,
             "#f1b6da"
            ],
            [
             0.4,
             "#fde0ef"
            ],
            [
             0.5,
             "#f7f7f7"
            ],
            [
             0.6,
             "#e6f5d0"
            ],
            [
             0.7,
             "#b8e186"
            ],
            [
             0.8,
             "#7fbc41"
            ],
            [
             0.9,
             "#4d9221"
            ],
            [
             1,
             "#276419"
            ]
           ],
           "sequential": [
            [
             0,
             "#0d0887"
            ],
            [
             0.1111111111111111,
             "#46039f"
            ],
            [
             0.2222222222222222,
             "#7201a8"
            ],
            [
             0.3333333333333333,
             "#9c179e"
            ],
            [
             0.4444444444444444,
             "#bd3786"
            ],
            [
             0.5555555555555556,
             "#d8576b"
            ],
            [
             0.6666666666666666,
             "#ed7953"
            ],
            [
             0.7777777777777778,
             "#fb9f3a"
            ],
            [
             0.8888888888888888,
             "#fdca26"
            ],
            [
             1,
             "#f0f921"
            ]
           ],
           "sequentialminus": [
            [
             0,
             "#0d0887"
            ],
            [
             0.1111111111111111,
             "#46039f"
            ],
            [
             0.2222222222222222,
             "#7201a8"
            ],
            [
             0.3333333333333333,
             "#9c179e"
            ],
            [
             0.4444444444444444,
             "#bd3786"
            ],
            [
             0.5555555555555556,
             "#d8576b"
            ],
            [
             0.6666666666666666,
             "#ed7953"
            ],
            [
             0.7777777777777778,
             "#fb9f3a"
            ],
            [
             0.8888888888888888,
             "#fdca26"
            ],
            [
             1,
             "#f0f921"
            ]
           ]
          },
          "colorway": [
           "#636efa",
           "#EF553B",
           "#00cc96",
           "#ab63fa",
           "#FFA15A",
           "#19d3f3",
           "#FF6692",
           "#B6E880",
           "#FF97FF",
           "#FECB52"
          ],
          "font": {
           "color": "#2a3f5f"
          },
          "geo": {
           "bgcolor": "white",
           "lakecolor": "white",
           "landcolor": "#E5ECF6",
           "showlakes": true,
           "showland": true,
           "subunitcolor": "white"
          },
          "hoverlabel": {
           "align": "left"
          },
          "hovermode": "closest",
          "mapbox": {
           "style": "light"
          },
          "paper_bgcolor": "white",
          "plot_bgcolor": "#E5ECF6",
          "polar": {
           "angularaxis": {
            "gridcolor": "white",
            "linecolor": "white",
            "ticks": ""
           },
           "bgcolor": "#E5ECF6",
           "radialaxis": {
            "gridcolor": "white",
            "linecolor": "white",
            "ticks": ""
           }
          },
          "scene": {
           "xaxis": {
            "backgroundcolor": "#E5ECF6",
            "gridcolor": "white",
            "gridwidth": 2,
            "linecolor": "white",
            "showbackground": true,
            "ticks": "",
            "zerolinecolor": "white"
           },
           "yaxis": {
            "backgroundcolor": "#E5ECF6",
            "gridcolor": "white",
            "gridwidth": 2,
            "linecolor": "white",
            "showbackground": true,
            "ticks": "",
            "zerolinecolor": "white"
           },
           "zaxis": {
            "backgroundcolor": "#E5ECF6",
            "gridcolor": "white",
            "gridwidth": 2,
            "linecolor": "white",
            "showbackground": true,
            "ticks": "",
            "zerolinecolor": "white"
           }
          },
          "shapedefaults": {
           "line": {
            "color": "#2a3f5f"
           }
          },
          "ternary": {
           "aaxis": {
            "gridcolor": "white",
            "linecolor": "white",
            "ticks": ""
           },
           "baxis": {
            "gridcolor": "white",
            "linecolor": "white",
            "ticks": ""
           },
           "bgcolor": "#E5ECF6",
           "caxis": {
            "gridcolor": "white",
            "linecolor": "white",
            "ticks": ""
           }
          },
          "title": {
           "x": 0.05
          },
          "xaxis": {
           "automargin": true,
           "gridcolor": "white",
           "linecolor": "white",
           "ticks": "",
           "title": {
            "standoff": 15
           },
           "zerolinecolor": "white",
           "zerolinewidth": 2
          },
          "yaxis": {
           "automargin": true,
           "gridcolor": "white",
           "linecolor": "white",
           "ticks": "",
           "title": {
            "standoff": 15
           },
           "zerolinecolor": "white",
           "zerolinewidth": 2
          }
         }
        },
        "title": {
         "text": "Transaction Count by Hour of Day"
        },
        "xaxis": {
         "anchor": "y",
         "domain": [
          0,
          1
         ],
         "title": {
          "text": "Hour of Day"
         }
        },
        "yaxis": {
         "anchor": "x",
         "domain": [
          0,
          1
         ],
         "title": {
          "text": "Count"
         }
        }
       }
      },
      "text/html": [
       "<div>                            <div id=\"4e047da3-0ebb-4aa6-833f-2c027638e6e5\" class=\"plotly-graph-div\" style=\"height:525px; width:100%;\"></div>            <script type=\"text/javascript\">                require([\"plotly\"], function(Plotly) {                    window.PLOTLYENV=window.PLOTLYENV || {};                                    if (document.getElementById(\"4e047da3-0ebb-4aa6-833f-2c027638e6e5\")) {                    Plotly.newPlot(                        \"4e047da3-0ebb-4aa6-833f-2c027638e6e5\",                        [{\"alignmentgroup\": \"True\", \"bingroup\": \"x\", \"hovertemplate\": \"Fraud Indicator=0<br>Hour of Day=%{x}<br>count=%{y}<extra></extra>\", \"legendgroup\": \"0\", \"marker\": {\"color\": \"#636efa\"}, \"name\": \"0\", \"nbinsx\": 24, \"offsetgroup\": \"0\", \"orientation\": \"v\", \"showlegend\": true, \"type\": \"histogram\", \"x\": [18, 16, 8, 17, 22, 4, 11, 1, 5, 5, 19, 8, 16, 23, 0, 21, 10, 20, 14, 18, 4, 4, 3, 23, 21, 2, 10, 23, 17, 18, 1, 20, 8, 20, 12, 18, 8, 22, 15, 6, 14, 2, 11, 14, 20, 6, 8, 15, 19, 0, 21, 14, 17, 18, 22, 13, 0, 4, 11, 8, 13, 22, 12, 6, 8, 3, 2, 5, 16, 13, 21, 18, 17, 8, 15, 13, 13, 8, 10, 16, 13, 23, 21, 4, 5, 3, 8, 14, 12, 9, 4, 20, 20, 18, 12, 15, 17, 5, 21, 10, 22, 3, 2, 3, 9, 21, 5, 5, 11, 1, 17, 18, 4, 21, 11, 8, 9, 13, 13, 17, 23, 0, 11, 15, 23, 20, 2, 0, 6, 1, 20, 15, 14, 6, 16, 22, 6, 16, 16, 20, 2, 7, 16, 7, 22, 19, 9, 22, 7, 11, 9, 10, 9, 20, 0, 22, 12, 15, 15, 8, 16, 22, 7, 4, 1, 15, 0, 9, 1, 7, 9, 12, 10, 6, 19, 1, 10, 21, 16, 18, 15, 3, 14, 6, 5, 7, 14, 17, 3, 5, 16, 8, 0, 22, 4, 1, 3, 6, 6, 17, 23, 0, 0, 8, 12, 17, 0, 19, 5, 22, 5, 21, 14, 14, 10, 4, 20, 13, 9, 0, 4, 5, 15, 13, 20, 3, 19, 17, 4, 15, 2, 21, 4, 1, 6, 6, 16, 1, 11, 23, 8, 21, 2, 2, 9, 9, 0, 15, 5, 9, 14, 13, 13, 1, 1, 1, 22, 21, 23, 2, 17, 23, 17, 10, 0, 3, 1, 3, 7, 10, 18, 18, 18, 21, 16, 11, 17, 23, 18, 9, 21, 4, 1, 14, 20, 13, 7, 4, 4, 19, 1, 1, 13, 10, 13, 21, 11, 8, 22, 11, 21, 4, 19, 6, 6, 17, 22, 15, 4, 19, 15, 12, 18, 4, 23, 12, 14, 16, 9, 19, 10, 3, 10, 2, 9, 20, 3, 11, 10, 18, 14, 4, 20, 15, 5, 3, 1, 5, 15, 11, 13, 9, 12, 11, 20, 16, 10, 16, 22, 11, 1, 17, 11, 3, 14, 0, 8, 3, 7, 12, 8, 0, 2, 2, 20, 6, 13, 1, 0, 1, 7, 17, 18, 1, 6, 1, 12, 21, 3, 17, 5, 14, 19, 22, 9, 11, 16, 5, 10, 21, 18, 20, 11, 7, 19, 11, 1, 16, 3, 12, 20, 19, 19, 3, 4, 3, 15, 20, 22, 10, 2, 11, 4, 11, 8, 6, 8, 17, 7, 8, 3, 3, 23, 7, 19, 21, 13, 11, 3, 2, 20, 14, 8, 16, 19, 14, 16, 8, 23, 12, 10, 17, 2, 5, 15, 2, 23, 10, 19, 3, 12, 19, 4, 11, 16, 13, 7, 6, 23, 5, 2, 8, 1, 4, 18, 2, 15, 21, 18, 15, 8, 3, 11, 2, 8, 18, 13, 3, 12, 16, 23, 22, 15, 15, 19, 22, 18, 16, 20, 20, 4, 17, 23, 12, 10, 11, 8, 21, 9, 3, 17, 1, 11, 23, 5, 3, 20, 0, 14, 10, 22, 12, 3, 2, 4, 16, 23, 2, 14, 7, 10, 16, 22, 5, 11, 11, 19, 12, 7, 8, 15, 21, 2, 1, 5, 23, 21, 20, 11, 4, 17, 9, 0, 12, 12, 14, 6, 8, 0, 1, 17, 22, 12, 1, 1, 9, 19, 21, 9, 20, 4, 23, 2, 15, 10, 6, 17, 21, 8, 17, 15, 11, 14, 10, 6, 20, 17, 5, 9, 18, 1, 9, 5, 4, 2, 22, 16, 2, 9, 17, 14, 11, 19, 21, 14, 7, 7, 22, 8, 7, 13, 8, 6, 2, 13, 20, 7, 15, 6, 6, 0, 14, 12, 4, 4, 12, 20, 6, 4, 18, 2, 6, 13, 3, 13, 23, 20, 4, 7, 5, 19, 15, 21, 21, 6, 10, 13, 4, 6, 16, 22, 7, 4, 18, 3, 23, 12, 9, 11, 15, 15, 13, 7, 16, 6, 9, 17, 18, 2, 10, 7, 8, 12, 5, 10, 5, 23, 20, 13, 15, 18, 7, 15, 9, 2, 18, 3, 7, 13, 8, 14, 22, 6, 13, 5, 17, 14, 9, 13, 8, 12, 19, 22, 1, 10, 16, 17, 23, 17, 3, 10, 22, 12, 19, 22, 10, 20, 1, 18, 0, 22, 10, 10, 9, 14, 6, 3, 4, 15, 2, 9, 22, 23, 23, 4, 1, 16, 3, 5, 9, 7, 0, 22, 20, 10, 9, 11, 12, 20, 20, 16, 14, 13, 4, 21, 6, 12, 21, 5, 5, 14, 19, 6, 11, 21, 6, 11, 12, 18, 13, 5, 1, 14, 0, 22, 19, 7, 0, 3, 0, 12, 17, 21, 7, 16, 10, 9, 11, 19, 9, 9, 14, 0, 18, 14, 16, 21, 3, 19, 18, 5, 18, 16, 21, 14, 3, 12, 18, 12, 5, 21, 10, 22, 0, 0, 5, 23, 13, 11, 16, 10, 2, 15, 7, 0, 18, 1, 15, 4, 16, 21, 1, 5, 17, 6, 11, 3, 7, 0, 13, 9, 2, 2, 10, 15, 7, 11, 7, 5, 14, 2, 22, 23, 15, 2, 20, 0, 19, 13, 23, 21, 22, 23, 5, 19, 3, 0, 18, 13, 7, 6, 23, 12, 1, 5, 18, 7, 14, 11, 12, 7, 16, 20, 4, 0, 8, 23, 12, 1, 12, 20, 14, 0, 19, 13, 18, 16, 16, 17, 3, 11, 17, 22, 2, 0, 18, 4, 15, 9, 9, 0, 6, 8, 8, 2, 15, 11, 12, 2, 14, 21, 16, 6, 13, 1, 15, 12, 1, 7, 23, 23, 19, 17, 13, 23, 2, 15, 8, 10, 18, 9, 19, 14, 5, 19, 13, 17, 18, 8, 10, 14, 7, 23, 12, 9, 21, 7, 13, 17, 7, 19, 12, 19, 0, 10], \"xaxis\": \"x\", \"yaxis\": \"y\"}, {\"alignmentgroup\": \"True\", \"bingroup\": \"x\", \"hovertemplate\": \"Fraud Indicator=1<br>Hour of Day=%{x}<br>count=%{y}<extra></extra>\", \"legendgroup\": \"1\", \"marker\": {\"color\": \"#EF553B\"}, \"name\": \"1\", \"nbinsx\": 24, \"offsetgroup\": \"1\", \"orientation\": \"v\", \"showlegend\": true, \"type\": \"histogram\", \"x\": [7, 8, 0, 14, 2, 5, 15, 17, 6, 23, 6, 2, 8, 5, 3, 6, 9, 20, 19, 0, 19, 4, 21, 19, 18, 20, 17, 6, 22, 14, 0, 20, 16, 0, 22, 22, 23, 23, 10, 9, 7, 1, 13, 19, 10], \"xaxis\": \"x\", \"yaxis\": \"y\"}],                        {\"bargap\": 0.1, \"barmode\": \"stack\", \"legend\": {\"title\": {\"text\": \"Fraud Indicator\"}, \"tracegroupgap\": 0}, \"showlegend\": true, \"template\": {\"data\": {\"bar\": [{\"error_x\": {\"color\": \"#2a3f5f\"}, \"error_y\": {\"color\": \"#2a3f5f\"}, \"marker\": {\"line\": {\"color\": \"#E5ECF6\", \"width\": 0.5}}, \"type\": \"bar\"}], \"barpolar\": [{\"marker\": {\"line\": {\"color\": \"#E5ECF6\", \"width\": 0.5}}, \"type\": \"barpolar\"}], \"carpet\": [{\"aaxis\": {\"endlinecolor\": \"#2a3f5f\", \"gridcolor\": \"white\", \"linecolor\": \"white\", \"minorgridcolor\": \"white\", \"startlinecolor\": \"#2a3f5f\"}, \"baxis\": {\"endlinecolor\": \"#2a3f5f\", \"gridcolor\": \"white\", \"linecolor\": \"white\", \"minorgridcolor\": \"white\", \"startlinecolor\": \"#2a3f5f\"}, \"type\": \"carpet\"}], \"choropleth\": [{\"colorbar\": {\"outlinewidth\": 0, \"ticks\": \"\"}, \"type\": \"choropleth\"}], \"contour\": [{\"colorbar\": {\"outlinewidth\": 0, \"ticks\": \"\"}, \"colorscale\": [[0.0, \"#0d0887\"], [0.1111111111111111, \"#46039f\"], [0.2222222222222222, \"#7201a8\"], [0.3333333333333333, \"#9c179e\"], [0.4444444444444444, \"#bd3786\"], [0.5555555555555556, \"#d8576b\"], [0.6666666666666666, \"#ed7953\"], [0.7777777777777778, \"#fb9f3a\"], [0.8888888888888888, \"#fdca26\"], [1.0, \"#f0f921\"]], \"type\": \"contour\"}], \"contourcarpet\": [{\"colorbar\": {\"outlinewidth\": 0, \"ticks\": \"\"}, \"type\": \"contourcarpet\"}], \"heatmap\": [{\"colorbar\": {\"outlinewidth\": 0, \"ticks\": \"\"}, \"colorscale\": [[0.0, \"#0d0887\"], [0.1111111111111111, \"#46039f\"], [0.2222222222222222, \"#7201a8\"], [0.3333333333333333, \"#9c179e\"], [0.4444444444444444, \"#bd3786\"], [0.5555555555555556, \"#d8576b\"], [0.6666666666666666, \"#ed7953\"], [0.7777777777777778, \"#fb9f3a\"], [0.8888888888888888, \"#fdca26\"], [1.0, \"#f0f921\"]], \"type\": \"heatmap\"}], \"heatmapgl\": [{\"colorbar\": {\"outlinewidth\": 0, \"ticks\": \"\"}, \"colorscale\": [[0.0, \"#0d0887\"], [0.1111111111111111, \"#46039f\"], [0.2222222222222222, \"#7201a8\"], [0.3333333333333333, \"#9c179e\"], [0.4444444444444444, \"#bd3786\"], [0.5555555555555556, \"#d8576b\"], [0.6666666666666666, \"#ed7953\"], [0.7777777777777778, \"#fb9f3a\"], [0.8888888888888888, \"#fdca26\"], [1.0, \"#f0f921\"]], \"type\": \"heatmapgl\"}], \"histogram\": [{\"marker\": {\"colorbar\": {\"outlinewidth\": 0, \"ticks\": \"\"}}, \"type\": \"histogram\"}], \"histogram2d\": [{\"colorbar\": {\"outlinewidth\": 0, \"ticks\": \"\"}, \"colorscale\": [[0.0, \"#0d0887\"], [0.1111111111111111, \"#46039f\"], [0.2222222222222222, \"#7201a8\"], [0.3333333333333333, \"#9c179e\"], [0.4444444444444444, \"#bd3786\"], [0.5555555555555556, \"#d8576b\"], [0.6666666666666666, \"#ed7953\"], [0.7777777777777778, \"#fb9f3a\"], [0.8888888888888888, \"#fdca26\"], [1.0, \"#f0f921\"]], \"type\": \"histogram2d\"}], \"histogram2dcontour\": [{\"colorbar\": {\"outlinewidth\": 0, \"ticks\": \"\"}, \"colorscale\": [[0.0, \"#0d0887\"], [0.1111111111111111, \"#46039f\"], [0.2222222222222222, \"#7201a8\"], [0.3333333333333333, \"#9c179e\"], [0.4444444444444444, \"#bd3786\"], [0.5555555555555556, \"#d8576b\"], [0.6666666666666666, \"#ed7953\"], [0.7777777777777778, \"#fb9f3a\"], [0.8888888888888888, \"#fdca26\"], [1.0, \"#f0f921\"]], \"type\": \"histogram2dcontour\"}], \"mesh3d\": [{\"colorbar\": {\"outlinewidth\": 0, \"ticks\": \"\"}, \"type\": \"mesh3d\"}], \"parcoords\": [{\"line\": {\"colorbar\": {\"outlinewidth\": 0, \"ticks\": \"\"}}, \"type\": \"parcoords\"}], \"pie\": [{\"automargin\": true, \"type\": \"pie\"}], \"scatter\": [{\"marker\": {\"colorbar\": {\"outlinewidth\": 0, \"ticks\": \"\"}}, \"type\": \"scatter\"}], \"scatter3d\": [{\"line\": {\"colorbar\": {\"outlinewidth\": 0, \"ticks\": \"\"}}, \"marker\": {\"colorbar\": {\"outlinewidth\": 0, \"ticks\": \"\"}}, \"type\": \"scatter3d\"}], \"scattercarpet\": [{\"marker\": {\"colorbar\": {\"outlinewidth\": 0, \"ticks\": \"\"}}, \"type\": \"scattercarpet\"}], \"scattergeo\": [{\"marker\": {\"colorbar\": {\"outlinewidth\": 0, \"ticks\": \"\"}}, \"type\": \"scattergeo\"}], \"scattergl\": [{\"marker\": {\"colorbar\": {\"outlinewidth\": 0, \"ticks\": \"\"}}, \"type\": \"scattergl\"}], \"scattermapbox\": [{\"marker\": {\"colorbar\": {\"outlinewidth\": 0, \"ticks\": \"\"}}, \"type\": \"scattermapbox\"}], \"scatterpolar\": [{\"marker\": {\"colorbar\": {\"outlinewidth\": 0, \"ticks\": \"\"}}, \"type\": \"scatterpolar\"}], \"scatterpolargl\": [{\"marker\": {\"colorbar\": {\"outlinewidth\": 0, \"ticks\": \"\"}}, \"type\": \"scatterpolargl\"}], \"scatterternary\": [{\"marker\": {\"colorbar\": {\"outlinewidth\": 0, \"ticks\": \"\"}}, \"type\": \"scatterternary\"}], \"surface\": [{\"colorbar\": {\"outlinewidth\": 0, \"ticks\": \"\"}, \"colorscale\": [[0.0, \"#0d0887\"], [0.1111111111111111, \"#46039f\"], [0.2222222222222222, \"#7201a8\"], [0.3333333333333333, \"#9c179e\"], [0.4444444444444444, \"#bd3786\"], [0.5555555555555556, \"#d8576b\"], [0.6666666666666666, \"#ed7953\"], [0.7777777777777778, \"#fb9f3a\"], [0.8888888888888888, \"#fdca26\"], [1.0, \"#f0f921\"]], \"type\": \"surface\"}], \"table\": [{\"cells\": {\"fill\": {\"color\": \"#EBF0F8\"}, \"line\": {\"color\": \"white\"}}, \"header\": {\"fill\": {\"color\": \"#C8D4E3\"}, \"line\": {\"color\": \"white\"}}, \"type\": \"table\"}]}, \"layout\": {\"annotationdefaults\": {\"arrowcolor\": \"#2a3f5f\", \"arrowhead\": 0, \"arrowwidth\": 1}, \"coloraxis\": {\"colorbar\": {\"outlinewidth\": 0, \"ticks\": \"\"}}, \"colorscale\": {\"diverging\": [[0, \"#8e0152\"], [0.1, \"#c51b7d\"], [0.2, \"#de77ae\"], [0.3, \"#f1b6da\"], [0.4, \"#fde0ef\"], [0.5, \"#f7f7f7\"], [0.6, \"#e6f5d0\"], [0.7, \"#b8e186\"], [0.8, \"#7fbc41\"], [0.9, \"#4d9221\"], [1, \"#276419\"]], \"sequential\": [[0.0, \"#0d0887\"], [0.1111111111111111, \"#46039f\"], [0.2222222222222222, \"#7201a8\"], [0.3333333333333333, \"#9c179e\"], [0.4444444444444444, \"#bd3786\"], [0.5555555555555556, \"#d8576b\"], [0.6666666666666666, \"#ed7953\"], [0.7777777777777778, \"#fb9f3a\"], [0.8888888888888888, \"#fdca26\"], [1.0, \"#f0f921\"]], \"sequentialminus\": [[0.0, \"#0d0887\"], [0.1111111111111111, \"#46039f\"], [0.2222222222222222, \"#7201a8\"], [0.3333333333333333, \"#9c179e\"], [0.4444444444444444, \"#bd3786\"], [0.5555555555555556, \"#d8576b\"], [0.6666666666666666, \"#ed7953\"], [0.7777777777777778, \"#fb9f3a\"], [0.8888888888888888, \"#fdca26\"], [1.0, \"#f0f921\"]]}, \"colorway\": [\"#636efa\", \"#EF553B\", \"#00cc96\", \"#ab63fa\", \"#FFA15A\", \"#19d3f3\", \"#FF6692\", \"#B6E880\", \"#FF97FF\", \"#FECB52\"], \"font\": {\"color\": \"#2a3f5f\"}, \"geo\": {\"bgcolor\": \"white\", \"lakecolor\": \"white\", \"landcolor\": \"#E5ECF6\", \"showlakes\": true, \"showland\": true, \"subunitcolor\": \"white\"}, \"hoverlabel\": {\"align\": \"left\"}, \"hovermode\": \"closest\", \"mapbox\": {\"style\": \"light\"}, \"paper_bgcolor\": \"white\", \"plot_bgcolor\": \"#E5ECF6\", \"polar\": {\"angularaxis\": {\"gridcolor\": \"white\", \"linecolor\": \"white\", \"ticks\": \"\"}, \"bgcolor\": \"#E5ECF6\", \"radialaxis\": {\"gridcolor\": \"white\", \"linecolor\": \"white\", \"ticks\": \"\"}}, \"scene\": {\"xaxis\": {\"backgroundcolor\": \"#E5ECF6\", \"gridcolor\": \"white\", \"gridwidth\": 2, \"linecolor\": \"white\", \"showbackground\": true, \"ticks\": \"\", \"zerolinecolor\": \"white\"}, \"yaxis\": {\"backgroundcolor\": \"#E5ECF6\", \"gridcolor\": \"white\", \"gridwidth\": 2, \"linecolor\": \"white\", \"showbackground\": true, \"ticks\": \"\", \"zerolinecolor\": \"white\"}, \"zaxis\": {\"backgroundcolor\": \"#E5ECF6\", \"gridcolor\": \"white\", \"gridwidth\": 2, \"linecolor\": \"white\", \"showbackground\": true, \"ticks\": \"\", \"zerolinecolor\": \"white\"}}, \"shapedefaults\": {\"line\": {\"color\": \"#2a3f5f\"}}, \"ternary\": {\"aaxis\": {\"gridcolor\": \"white\", \"linecolor\": \"white\", \"ticks\": \"\"}, \"baxis\": {\"gridcolor\": \"white\", \"linecolor\": \"white\", \"ticks\": \"\"}, \"bgcolor\": \"#E5ECF6\", \"caxis\": {\"gridcolor\": \"white\", \"linecolor\": \"white\", \"ticks\": \"\"}}, \"title\": {\"x\": 0.05}, \"xaxis\": {\"automargin\": true, \"gridcolor\": \"white\", \"linecolor\": \"white\", \"ticks\": \"\", \"title\": {\"standoff\": 15}, \"zerolinecolor\": \"white\", \"zerolinewidth\": 2}, \"yaxis\": {\"automargin\": true, \"gridcolor\": \"white\", \"linecolor\": \"white\", \"ticks\": \"\", \"title\": {\"standoff\": 15}, \"zerolinecolor\": \"white\", \"zerolinewidth\": 2}}}, \"title\": {\"text\": \"Transaction Count by Hour of Day\"}, \"xaxis\": {\"anchor\": \"y\", \"domain\": [0.0, 1.0], \"title\": {\"text\": \"Hour of Day\"}}, \"yaxis\": {\"anchor\": \"x\", \"domain\": [0.0, 1.0], \"title\": {\"text\": \"Count\"}}},                        {\"responsive\": true}                    ).then(function(){\n",
       "                            \n",
       "var gd = document.getElementById('4e047da3-0ebb-4aa6-833f-2c027638e6e5');\n",
       "var x = new MutationObserver(function (mutations, observer) {{\n",
       "        var display = window.getComputedStyle(gd).display;\n",
       "        if (!display || display === 'none') {{\n",
       "            console.log([gd, 'removed!']);\n",
       "            Plotly.purge(gd);\n",
       "            observer.disconnect();\n",
       "        }}\n",
       "}});\n",
       "\n",
       "// Listen for the removal of the full notebook cells\n",
       "var notebookContainer = gd.closest('#notebook-container');\n",
       "if (notebookContainer) {{\n",
       "    x.observe(notebookContainer, {childList: true});\n",
       "}}\n",
       "\n",
       "// Listen for the clearing of the current output cell\n",
       "var outputEl = gd.closest('.output');\n",
       "if (outputEl) {{\n",
       "    x.observe(outputEl, {childList: true});\n",
       "}}\n",
       "\n",
       "                        })                };                });            </script>        </div>"
      ]
     },
     "metadata": {},
     "output_type": "display_data"
    }
   ],
   "source": [
    "# Extract hour from Timestamp\n",
    "data['Hour'] = data['Timestamp'].dt.hour\n",
    "fig = px.histogram(\n",
    "    data_frame=data,\n",
    "    x='Hour',\n",
    "    color='FraudIndicator',\n",
    "    barmode='stack',         \n",
    "    nbins=24,                \n",
    "    title='Transaction Count by Hour of Day',\n",
    "    labels={'Hour': 'Hour of Day', 'count': 'Count', 'FraudIndicator': 'Fraud Indicator'}\n",
    ")\n",
    "fig.update_layout(\n",
    "    xaxis_title='Hour of Day',\n",
    "    yaxis_title='Count',\n",
    "    bargap=0.1,          \n",
    "    showlegend=True\n",
    ")"
   ]
  },
  {
   "cell_type": "markdown",
   "metadata": {},
   "source": [
    "#### Box Plot of TransactionAmount by FraudIndicator"
   ]
  },
  {
   "cell_type": "code",
   "execution_count": 63,
   "metadata": {},
   "outputs": [
    {
     "data": {
      "image/png": "[encoded data removed]",
      "text/plain": [
       "<Figure size 576x432 with 1 Axes>"
      ]
     },
     "metadata": {
      "needs_background": "light"
     },
     "output_type": "display_data"
    }
   ],
   "source": [
    "plt.figure(figsize=(8, 6))\n",
    "sns.boxplot(x='FraudIndicator', y='TransactionAmount', data=data)\n",
    "plt.title('Transaction Amount by Fraud Indicator')\n",
    "plt.xlabel('Fraud Indicator')\n",
    "plt.ylabel('Transaction Amount')\n",
    "plt.show()"
   ]
  },
  {
   "cell_type": "code",
   "execution_count": 67,
   "metadata": {},
   "outputs": [
    {
     "data": {
      "application/vnd.plotly.v1+json": {
       "config": {
        "plotlyServerURL": "https://plot.ly"
       },
       "data": [
        {
         "alignmentgroup": "True",
         "bingroup": "x",
         "hovertemplate": "Fraud Indicator=0<br>Transaction Category=%{x}<br>count=%{y}<extra></extra>",
         "legendgroup": "0",
         "marker": {
          "color": "#636efa"
         },
         "name": "0",
         "offsetgroup": "0",
         "orientation": "v",
         "showlegend": true,
         "type": "histogram",
         "x": [
          "Food",
          "Travel",
          "Other",
          "Other",
          "Other",
          "Travel",
          "Retail",
          "Other",
          "Other",
          "Online",
          "Retail",
          "Retail",
          "Other",
          "Retail",
          "Food",
          "Other",
          "Food",
          "Retail",
          "Retail",
          "Other",
          "Retail",
          "Food",
          "Online",
          "Retail",
          "Retail",
          "Travel",
          "Other",
          "Other",
          "Other",
          "Travel",
          "Online",
          "Travel",
          "Other",
          "Travel",
          "Online",
          "Other",
          "Online",
          "Travel",
          "Other",
          "Other",
          "Online",
          "Retail",
          "Retail",
          "Travel",
          "Travel",
          "Food",
          "Online",
          "Online",
          "Retail",
          "Other",
          "Food",
          "Retail",
          "Online",
          "Retail",
          "Food",
          "Travel",
          "Other",
          "Travel",
          "Travel",
          "Other",
          "Other",
          "Travel",
          "Travel",
          "Retail",
          "Retail",
          "Online",
          "Travel",
          "Other",
          "Retail",
          "Retail",
          "Food",
          "Food",
          "Food",
          "Food",
          "Online",
          "Travel",
          "Other",
          "Retail",
          "Online",
          "Food",
          "Retail",
          "Online",
          "Food",
          "Online",
          "Other",
          "Online",
          "Food",
          "Other",
          "Travel",
          "Online",
          "Travel",
          "Travel",
          "Other",
          "Online",
          "Online",
          "Retail",
          "Other",
          "Other",
          "Travel",
          "Retail",
          "Other",
          "Retail",
          "Travel",
          "Other",
          "Retail",
          "Online",
          "Retail",
          "Other",
          "Food",
          "Retail",
          "Travel",
          "Retail",
          "Other",
          "Travel",
          "Travel",
          "Online",
          "Food",
          "Travel",
          "Online",
          "Food",
          "Food",
          "Other",
          "Retail",
          "Travel",
          "Retail",
          "Food",
          "Travel",
          "Online",
          "Food",
          "Travel",
          "Retail",
          "Online",
          "Travel",
          "Retail",
          "Other",
          "Retail",
          "Online",
          "Other",
          "Other",
          "Other",
          "Online",
          "Other",
          "Other",
          "Retail",
          "Retail",
          "Travel",
          "Food",
          "Travel",
          "Online",
          "Food",
          "Food",
          "Other",
          "Online",
          "Other",
          "Travel",
          "Online",
          "Food",
          "Travel",
          "Food",
          "Food",
          "Travel",
          "Online",
          "Retail",
          "Retail",
          "Travel",
          "Food",
          "Online",
          "Food",
          "Travel",
          "Retail",
          "Other",
          "Travel",
          "Food",
          "Other",
          "Retail",
          "Retail",
          "Retail",
          "Retail",
          "Online",
          "Online",
          "Other",
          "Travel",
          "Other",
          "Other",
          "Online",
          "Food",
          "Other",
          "Travel",
          "Travel",
          "Food",
          "Food",
          "Online",
          "Online",
          "Online",
          "Food",
          "Other",
          "Online",
          "Online",
          "Food",
          "Food",
          "Retail",
          "Travel",
          "Online",
          "Food",
          "Travel",
          "Travel",
          "Retail",
          "Online",
          "Travel",
          "Food",
          "Food",
          "Food",
          "Online",
          "Other",
          "Other",
          "Retail",
          "Online",
          "Food",
          "Food",
          "Retail",
          "Travel",
          "Travel",
          "Food",
          "Travel",
          "Food",
          "Travel",
          "Online",
          "Other",
          "Other",
          "Online",
          "Food",
          "Food",
          "Travel",
          "Online",
          "Retail",
          "Online",
          "Food",
          "Food",
          "Food",
          "Travel",
          "Other",
          "Online",
          "Food",
          "Retail",
          "Retail",
          "Other",
          "Retail",
          "Online",
          "Travel",
          "Retail",
          "Retail",
          "Online",
          "Online",
          "Online",
          "Other",
          "Other",
          "Food",
          "Retail",
          "Retail",
          "Online",
          "Retail",
          "Online",
          "Travel",
          "Food",
          "Online",
          "Online",
          "Travel",
          "Retail",
          "Online",
          "Other",
          "Online",
          "Travel",
          "Online",
          "Travel",
          "Online",
          "Food",
          "Retail",
          "Retail",
          "Retail",
          "Other",
          "Travel",
          "Food",
          "Food",
          "Food",
          "Retail",
          "Online",
          "Food",
          "Food",
          "Online",
          "Food",
          "Other",
          "Food",
          "Food",
          "Food",
          "Food",
          "Other",
          "Food",
          "Food",
          "Retail",
          "Retail",
          "Other",
          "Food",
          "Other",
          "Food",
          "Retail",
          "Online",
          "Online",
          "Food",
          "Food",
          "Online",
          "Retail",
          "Travel",
          "Other",
          "Travel",
          "Retail",
          "Other",
          "Other",
          "Travel",
          "Online",
          "Retail",
          "Travel",
          "Food",
          "Other",
          "Retail",
          "Other",
          "Other",
          "Other",
          "Retail",
          "Other",
          "Other",
          "Other",
          "Food",
          "Online",
          "Travel",
          "Retail",
          "Online",
          "Other",
          "Other",
          "Retail",
          "Other",
          "Other",
          "Travel",
          "Retail",
          "Retail",
          "Travel",
          "Retail",
          "Online",
          "Food",
          "Retail",
          "Travel",
          "Other",
          "Other",
          "Online",
          "Food",
          "Travel",
          "Other",
          "Food",
          "Retail",
          "Other",
          "Online",
          "Online",
          "Food",
          "Food",
          "Online",
          "Retail",
          "Other",
          "Food",
          "Retail",
          "Food",
          "Online",
          "Retail",
          "Online",
          "Travel",
          "Travel",
          "Retail",
          "Travel",
          "Other",
          "Food",
          "Travel",
          "Food",
          "Travel",
          "Travel",
          "Other",
          "Travel",
          "Food",
          "Travel",
          "Travel",
          "Other",
          "Retail",
          "Food",
          "Retail",
          "Food",
          "Food",
          "Online",
          "Food",
          "Travel",
          "Online",
          "Online",
          "Retail",
          "Retail",
          "Food",
          "Online",
          "Travel",
          "Food",
          "Food",
          "Travel",
          "Retail",
          "Travel",
          "Other",
          "Other",
          "Other",
          "Retail",
          "Online",
          "Retail",
          "Food",
          "Online",
          "Online",
          "Travel",
          "Food",
          "Online",
          "Retail",
          "Travel",
          "Travel",
          "Other",
          "Food",
          "Travel",
          "Online",
          "Retail",
          "Other",
          "Food",
          "Food",
          "Travel",
          "Food",
          "Food",
          "Food",
          "Online",
          "Online",
          "Travel",
          "Food",
          "Travel",
          "Other",
          "Travel",
          "Retail",
          "Food",
          "Other",
          "Food",
          "Retail",
          "Online",
          "Online",
          "Online",
          "Other",
          "Food",
          "Other",
          "Food",
          "Travel",
          "Food",
          "Online",
          "Food",
          "Online",
          "Other",
          "Food",
          "Food",
          "Other",
          "Online",
          "Online",
          "Travel",
          "Online",
          "Retail",
          "Travel",
          "Travel",
          "Retail",
          "Other",
          "Online",
          "Travel",
          "Travel",
          "Online",
          "Online",
          "Other",
          "Travel",
          "Food",
          "Travel",
          "Retail",
          "Travel",
          "Other",
          "Retail",
          "Travel",
          "Other",
          "Other",
          "Retail",
          "Online",
          "Retail",
          "Retail",
          "Food",
          "Other",
          "Other",
          "Retail",
          "Other",
          "Travel",
          "Travel",
          "Other",
          "Travel",
          "Online",
          "Online",
          "Other",
          "Other",
          "Online",
          "Other",
          "Travel",
          "Online",
          "Online",
          "Food",
          "Food",
          "Travel",
          "Food",
          "Food",
          "Other",
          "Food",
          "Retail",
          "Food",
          "Food",
          "Food",
          "Online",
          "Retail",
          "Retail",
          "Food",
          "Retail",
          "Other",
          "Other",
          "Online",
          "Other",
          "Travel",
          "Travel",
          "Travel",
          "Online",
          "Online",
          "Retail",
          "Retail",
          "Food",
          "Online",
          "Online",
          "Travel",
          "Travel",
          "Retail",
          "Travel",
          "Retail",
          "Other",
          "Other",
          "Online",
          "Retail",
          "Online",
          "Food",
          "Travel",
          "Food",
          "Food",
          "Retail",
          "Other",
          "Travel",
          "Retail",
          "Retail",
          "Other",
          "Travel",
          "Travel",
          "Food",
          "Travel",
          "Online",
          "Retail",
          "Food",
          "Online",
          "Retail",
          "Online",
          "Retail",
          "Food",
          "Online",
          "Food",
          "Retail",
          "Travel",
          "Retail",
          "Travel",
          "Online",
          "Online",
          "Travel",
          "Retail",
          "Online",
          "Other",
          "Online",
          "Other",
          "Food",
          "Other",
          "Other",
          "Food",
          "Online",
          "Online",
          "Other",
          "Travel",
          "Retail",
          "Retail",
          "Online",
          "Travel",
          "Food",
          "Travel",
          "Online",
          "Travel",
          "Travel",
          "Online",
          "Retail",
          "Travel",
          "Other",
          "Other",
          "Online",
          "Food",
          "Travel",
          "Food",
          "Food",
          "Retail",
          "Travel",
          "Other",
          "Food",
          "Other",
          "Food",
          "Online",
          "Retail",
          "Food",
          "Food",
          "Other",
          "Food",
          "Retail",
          "Online",
          "Travel",
          "Retail",
          "Retail",
          "Other",
          "Online",
          "Retail",
          "Travel",
          "Food",
          "Retail",
          "Food",
          "Other",
          "Other",
          "Food",
          "Online",
          "Other",
          "Retail",
          "Other",
          "Travel",
          "Retail",
          "Food",
          "Travel",
          "Online",
          "Retail",
          "Other",
          "Online",
          "Travel",
          "Other",
          "Online",
          "Other",
          "Online",
          "Online",
          "Other",
          "Online",
          "Travel",
          "Food",
          "Travel",
          "Online",
          "Food",
          "Other",
          "Online",
          "Travel",
          "Other",
          "Retail",
          "Food",
          "Retail",
          "Travel",
          "Other",
          "Travel",
          "Retail",
          "Other",
          "Travel",
          "Food",
          "Food",
          "Travel",
          "Online",
          "Other",
          "Travel",
          "Online",
          "Retail",
          "Other",
          "Retail",
          "Food",
          "Travel",
          "Retail",
          "Food",
          "Retail",
          "Other",
          "Food",
          "Online",
          "Other",
          "Other",
          "Other",
          "Retail",
          "Other",
          "Online",
          "Travel",
          "Travel",
          "Online",
          "Other",
          "Travel",
          "Travel",
          "Online",
          "Other",
          "Food",
          "Food",
          "Retail",
          "Other",
          "Food",
          "Online",
          "Other",
          "Food",
          "Other",
          "Travel",
          "Travel",
          "Retail",
          "Other",
          "Other",
          "Retail",
          "Food",
          "Other",
          "Online",
          "Food",
          "Travel",
          "Food",
          "Retail",
          "Food",
          "Food",
          "Other",
          "Other",
          "Online",
          "Travel",
          "Online",
          "Travel",
          "Online",
          "Other",
          "Retail",
          "Travel",
          "Retail",
          "Food",
          "Other",
          "Online",
          "Travel",
          "Online",
          "Other",
          "Online",
          "Online",
          "Online",
          "Food",
          "Travel",
          "Food",
          "Online",
          "Other",
          "Other",
          "Travel",
          "Retail",
          "Food",
          "Travel",
          "Online",
          "Online",
          "Travel",
          "Travel",
          "Travel",
          "Online",
          "Food",
          "Other",
          "Online",
          "Other",
          "Other",
          "Food",
          "Online",
          "Retail",
          "Travel",
          "Food",
          "Other",
          "Other",
          "Food",
          "Retail",
          "Retail",
          "Food",
          "Other",
          "Other",
          "Retail",
          "Online",
          "Online",
          "Retail",
          "Food",
          "Retail",
          "Travel",
          "Retail",
          "Travel",
          "Retail",
          "Other",
          "Other",
          "Travel",
          "Online",
          "Food",
          "Food",
          "Other",
          "Retail",
          "Online",
          "Other",
          "Retail",
          "Online",
          "Retail",
          "Retail",
          "Food",
          "Food",
          "Online",
          "Retail",
          "Food",
          "Online",
          "Travel",
          "Food",
          "Food",
          "Retail",
          "Online",
          "Travel",
          "Other",
          "Other",
          "Travel",
          "Travel",
          "Travel",
          "Travel",
          "Online",
          "Online",
          "Food",
          "Online",
          "Retail",
          "Food",
          "Online",
          "Retail",
          "Online",
          "Retail",
          "Travel",
          "Food",
          "Online",
          "Travel",
          "Other",
          "Retail",
          "Travel",
          "Online",
          "Other",
          "Retail",
          "Other",
          "Food",
          "Other",
          "Food",
          "Retail",
          "Retail",
          "Other",
          "Food",
          "Food",
          "Other",
          "Other",
          "Other",
          "Travel",
          "Travel",
          "Travel",
          "Other",
          "Travel",
          "Retail",
          "Travel",
          "Retail",
          "Retail",
          "Other",
          "Food",
          "Food",
          "Other",
          "Other",
          "Online",
          "Food",
          "Food",
          "Retail",
          "Other",
          "Travel",
          "Retail",
          "Food",
          "Travel",
          "Online",
          "Food",
          "Travel",
          "Travel",
          "Travel",
          "Other",
          "Other",
          "Online",
          "Retail",
          "Online",
          "Travel",
          "Other",
          "Food",
          "Food",
          "Online",
          "Other",
          "Food",
          "Retail",
          "Other",
          "Travel",
          "Retail",
          "Online",
          "Retail",
          "Other",
          "Retail",
          "Retail",
          "Other",
          "Retail",
          "Travel",
          "Other",
          "Travel",
          "Travel",
          "Food",
          "Travel",
          "Online",
          "Retail",
          "Travel",
          "Retail",
          "Food",
          "Food",
          "Retail",
          "Online",
          "Other",
          "Other",
          "Online",
          "Other",
          "Other",
          "Other",
          "Other",
          "Retail",
          "Food",
          "Food",
          "Other",
          "Travel",
          "Online",
          "Travel",
          "Online",
          "Travel",
          "Retail",
          "Travel",
          "Retail",
          "Online",
          "Travel",
          "Online",
          "Travel",
          "Retail",
          "Food",
          "Food",
          "Travel",
          "Other"
         ],
         "xaxis": "x",
         "yaxis": "y"
        },
        {
         "alignmentgroup": "True",
         "bingroup": "x",
         "hovertemplate": "Fraud Indicator=1<br>Transaction Category=%{x}<br>count=%{y}<extra></extra>",
         "legendgroup": "1",
         "marker": {
          "color": "#EF553B"
         },
         "name": "1",
         "offsetgroup": "1",
         "orientation": "v",
         "showlegend": true,
         "type": "histogram",
         "x": [
          "Travel",
          "Online",
          "Food",
          "Online",
          "Retail",
          "Food",
          "Food",
          "Food",
          "Retail",
          "Online",
          "Online",
          "Other",
          "Retail",
          "Retail",
          "Travel",
          "Other",
          "Other",
          "Online",
          "Other",
          "Food",
          "Other",
          "Travel",
          "Retail",
          "Travel",
          "Food",
          "Food",
          "Retail",
          "Retail",
          "Food",
          "Other",
          "Retail",
          "Other",
          "Online",
          "Other",
          "Retail",
          "Other",
          "Online",
          "Online",
          "Food",
          "Online",
          "Travel",
          "Other",
          "Travel",
          "Online",
          "Travel"
         ],
         "xaxis": "x",
         "yaxis": "y"
        }
       ],
       "layout": {
        "barmode": "group",
        "legend": {
         "title": {
          "text": "Fraud Indicator"
         },
         "tracegroupgap": 0
        },
        "showlegend": true,
        "template": {
         "data": {
          "bar": [
           {
            "error_x": {
             "color": "#2a3f5f"
            },
            "error_y": {
             "color": "#2a3f5f"
            },
            "marker": {
             "line": {
              "color": "#E5ECF6",
              "width": 0.5
             }
            },
            "type": "bar"
           }
          ],
          "barpolar": [
           {
            "marker": {
             "line": {
              "color": "#E5ECF6",
              "width": 0.5
             }
            },
            "type": "barpolar"
           }
          ],
          "carpet": [
           {
            "aaxis": {
             "endlinecolor": "#2a3f5f",
             "gridcolor": "white",
             "linecolor": "white",
             "minorgridcolor": "white",
             "startlinecolor": "#2a3f5f"
            },
            "baxis": {
             "endlinecolor": "#2a3f5f",
             "gridcolor": "white",
             "linecolor": "white",
             "minorgridcolor": "white",
             "startlinecolor": "#2a3f5f"
            },
            "type": "carpet"
           }
          ],
          "choropleth": [
           {
            "colorbar": {
             "outlinewidth": 0,
             "ticks": ""
            },
            "type": "choropleth"
           }
          ],
          "contour": [
           {
            "colorbar": {
             "outlinewidth": 0,
             "ticks": ""
            },
            "colorscale": [
             [
              0,
              "#0d0887"
             ],
             [
              0.1111111111111111,
              "#46039f"
             ],
             [
              0.2222222222222222,
              "#7201a8"
             ],
             [
              0.3333333333333333,
              "#9c179e"
             ],
             [
              0.4444444444444444,
              "#bd3786"
             ],
             [
              0.5555555555555556,
              "#d8576b"
             ],
             [
              0.6666666666666666,
              "#ed7953"
             ],
             [
              0.7777777777777778,
              "#fb9f3a"
             ],
             [
              0.8888888888888888,
              "#fdca26"
             ],
             [
              1,
              "#f0f921"
             ]
            ],
            "type": "contour"
           }
          ],
          "contourcarpet": [
           {
            "colorbar": {
             "outlinewidth": 0,
             "ticks": ""
            },
            "type": "contourcarpet"
           }
          ],
          "heatmap": [
           {
            "colorbar": {
             "outlinewidth": 0,
             "ticks": ""
            },
            "colorscale": [
             [
              0,
              "#0d0887"
             ],
             [
              0.1111111111111111,
              "#46039f"
             ],
             [
              0.2222222222222222,
              "#7201a8"
             ],
             [
              0.3333333333333333,
              "#9c179e"
             ],
             [
              0.4444444444444444,
              "#bd3786"
             ],
             [
              0.5555555555555556,
              "#d8576b"
             ],
             [
              0.6666666666666666,
              "#ed7953"
             ],
             [
              0.7777777777777778,
              "#fb9f3a"
             ],
             [
              0.8888888888888888,
              "#fdca26"
             ],
             [
              1,
              "#f0f921"
             ]
            ],
            "type": "heatmap"
           }
          ],
          "heatmapgl": [
           {
            "colorbar": {
             "outlinewidth": 0,
             "ticks": ""
            },
            "colorscale": [
             [
              0,
              "#0d0887"
             ],
             [
              0.1111111111111111,
              "#46039f"
             ],
             [
              0.2222222222222222,
              "#7201a8"
             ],
             [
              0.3333333333333333,
              "#9c179e"
             ],
             [
              0.4444444444444444,
              "#bd3786"
             ],
             [
              0.5555555555555556,
              "#d8576b"
             ],
             [
              0.6666666666666666,
              "#ed7953"
             ],
             [
              0.7777777777777778,
              "#fb9f3a"
             ],
             [
              0.8888888888888888,
              "#fdca26"
             ],
             [
              1,
              "#f0f921"
             ]
            ],
            "type": "heatmapgl"
           }
          ],
          "histogram": [
           {
            "marker": {
             "colorbar": {
              "outlinewidth": 0,
              "ticks": ""
             }
            },
            "type": "histogram"
           }
          ],
          "histogram2d": [
           {
            "colorbar": {
             "outlinewidth": 0,
             "ticks": ""
            },
            "colorscale": [
             [
              0,
              "#0d0887"
             ],
             [
              0.1111111111111111,
              "#46039f"
             ],
             [
              0.2222222222222222,
              "#7201a8"
             ],
             [
              0.3333333333333333,
              "#9c179e"
             ],
             [
              0.4444444444444444,
              "#bd3786"
             ],
             [
              0.5555555555555556,
              "#d8576b"
             ],
             [
              0.6666666666666666,
              "#ed7953"
             ],
             [
              0.7777777777777778,
              "#fb9f3a"
             ],
             [
              0.8888888888888888,
              "#fdca26"
             ],
             [
              1,
              "#f0f921"
             ]
            ],
            "type": "histogram2d"
           }
          ],
          "histogram2dcontour": [
           {
            "colorbar": {
             "outlinewidth": 0,
             "ticks": ""
            },
            "colorscale": [
             [
              0,
              "#0d0887"
             ],
             [
              0.1111111111111111,
              "#46039f"
             ],
             [
              0.2222222222222222,
              "#7201a8"
             ],
             [
              0.3333333333333333,
              "#9c179e"
             ],
             [
              0.4444444444444444,
              "#bd3786"
             ],
             [
              0.5555555555555556,
              "#d8576b"
             ],
             [
              0.6666666666666666,
              "#ed7953"
             ],
             [
              0.7777777777777778,
              "#fb9f3a"
             ],
             [
              0.8888888888888888,
              "#fdca26"
             ],
             [
              1,
              "#f0f921"
             ]
            ],
            "type": "histogram2dcontour"
           }
          ],
          "mesh3d": [
           {
            "colorbar": {
             "outlinewidth": 0,
             "ticks": ""
            },
            "type": "mesh3d"
           }
          ],
          "parcoords": [
           {
            "line": {
             "colorbar": {
              "outlinewidth": 0,
              "ticks": ""
             }
            },
            "type": "parcoords"
           }
          ],
          "pie": [
           {
            "automargin": true,
            "type": "pie"
           }
          ],
          "scatter": [
           {
            "marker": {
             "colorbar": {
              "outlinewidth": 0,
              "ticks": ""
             }
            },
            "type": "scatter"
           }
          ],
          "scatter3d": [
           {
            "line": {
             "colorbar": {
              "outlinewidth": 0,
              "ticks": ""
             }
            },
            "marker": {
             "colorbar": {
              "outlinewidth": 0,
              "ticks": ""
             }
            },
            "type": "scatter3d"
           }
          ],
          "scattercarpet": [
           {
            "marker": {
             "colorbar": {
              "outlinewidth": 0,
              "ticks": ""
             }
            },
            "type": "scattercarpet"
           }
          ],
          "scattergeo": [
           {
            "marker": {
             "colorbar": {
              "outlinewidth": 0,
              "ticks": ""
             }
            },
            "type": "scattergeo"
           }
          ],
          "scattergl": [
           {
            "marker": {
             "colorbar": {
              "outlinewidth": 0,
              "ticks": ""
             }
            },
            "type": "scattergl"
           }
          ],
          "scattermapbox": [
           {
            "marker": {
             "colorbar": {
              "outlinewidth": 0,
              "ticks": ""
             }
            },
            "type": "scattermapbox"
           }
          ],
          "scatterpolar": [
           {
            "marker": {
             "colorbar": {
              "outlinewidth": 0,
              "ticks": ""
             }
            },
            "type": "scatterpolar"
           }
          ],
          "scatterpolargl": [
           {
            "marker": {
             "colorbar": {
              "outlinewidth": 0,
              "ticks": ""
             }
            },
            "type": "scatterpolargl"
           }
          ],
          "scatterternary": [
           {
            "marker": {
             "colorbar": {
              "outlinewidth": 0,
              "ticks": ""
             }
            },
            "type": "scatterternary"
           }
          ],
          "surface": [
           {
            "colorbar": {
             "outlinewidth": 0,
             "ticks": ""
            },
            "colorscale": [
             [
              0,
              "#0d0887"
             ],
             [
              0.1111111111111111,
              "#46039f"
             ],
             [
              0.2222222222222222,
              "#7201a8"
             ],
             [
              0.3333333333333333,
              "#9c179e"
             ],
             [
              0.4444444444444444,
              "#bd3786"
             ],
             [
              0.5555555555555556,
              "#d8576b"
             ],
             [
              0.6666666666666666,
              "#ed7953"
             ],
             [
              0.7777777777777778,
              "#fb9f3a"
             ],
             [
              0.8888888888888888,
              "#fdca26"
             ],
             [
              1,
              "#f0f921"
             ]
            ],
            "type": "surface"
           }
          ],
          "table": [
           {
            "cells": {
             "fill": {
              "color": "#EBF0F8"
             },
             "line": {
              "color": "white"
             }
            },
            "header": {
             "fill": {
              "color": "#C8D4E3"
             },
             "line": {
              "color": "white"
             }
            },
            "type": "table"
           }
          ]
         },
         "layout": {
          "annotationdefaults": {
           "arrowcolor": "#2a3f5f",
           "arrowhead": 0,
           "arrowwidth": 1
          },
          "coloraxis": {
           "colorbar": {
            "outlinewidth": 0,
            "ticks": ""
           }
          },
          "colorscale": {
           "diverging": [
            [
             0,
             "#8e0152"
            ],
            [
             0.1,
             "#c51b7d"
            ],
            [
             0.2,
             "#de77ae"
            ],
            [
             0.3,
             "#f1b6da"
            ],
            [
             0.4,
             "#fde0ef"
            ],
            [
             0.5,
             "#f7f7f7"
            ],
            [
             0.6,
             "#e6f5d0"
            ],
            [
             0.7,
             "#b8e186"
            ],
            [
             0.8,
             "#7fbc41"
            ],
            [
             0.9,
             "#4d9221"
            ],
            [
             1,
             "#276419"
            ]
           ],
           "sequential": [
            [
             0,
             "#0d0887"
            ],
            [
             0.1111111111111111,
             "#46039f"
            ],
            [
             0.2222222222222222,
             "#7201a8"
            ],
            [
             0.3333333333333333,
             "#9c179e"
            ],
            [
             0.4444444444444444,
             "#bd3786"
            ],
            [
             0.5555555555555556,
             "#d8576b"
            ],
            [
             0.6666666666666666,
             "#ed7953"
            ],
            [
             0.7777777777777778,
             "#fb9f3a"
            ],
            [
             0.8888888888888888,
             "#fdca26"
            ],
            [
             1,
             "#f0f921"
            ]
           ],
           "sequentialminus": [
            [
             0,
             "#0d0887"
            ],
            [
             0.1111111111111111,
             "#46039f"
            ],
            [
             0.2222222222222222,
             "#7201a8"
            ],
            [
             0.3333333333333333,
             "#9c179e"
            ],
            [
             0.4444444444444444,
             "#bd3786"
            ],
            [
             0.5555555555555556,
             "#d8576b"
            ],
            [
             0.6666666666666666,
             "#ed7953"
            ],
            [
             0.7777777777777778,
             "#fb9f3a"
            ],
            [
             0.8888888888888888,
             "#fdca26"
            ],
            [
             1,
             "#f0f921"
            ]
           ]
          },
          "colorway": [
           "#636efa",
           "#EF553B",
           "#00cc96",
           "#ab63fa",
           "#FFA15A",
           "#19d3f3",
           "#FF6692",
           "#B6E880",
           "#FF97FF",
           "#FECB52"
          ],
          "font": {
           "color": "#2a3f5f"
          },
          "geo": {
           "bgcolor": "white",
           "lakecolor": "white",
           "landcolor": "#E5ECF6",
           "showlakes": true,
           "showland": true,
           "subunitcolor": "white"
          },
          "hoverlabel": {
           "align": "left"
          },
          "hovermode": "closest",
          "mapbox": {
           "style": "light"
          },
          "paper_bgcolor": "white",
          "plot_bgcolor": "#E5ECF6",
          "polar": {
           "angularaxis": {
            "gridcolor": "white",
            "linecolor": "white",
            "ticks": ""
           },
           "bgcolor": "#E5ECF6",
           "radialaxis": {
            "gridcolor": "white",
            "linecolor": "white",
            "ticks": ""
           }
          },
          "scene": {
           "xaxis": {
            "backgroundcolor": "#E5ECF6",
            "gridcolor": "white",
            "gridwidth": 2,
            "linecolor": "white",
            "showbackground": true,
            "ticks": "",
            "zerolinecolor": "white"
           },
           "yaxis": {
            "backgroundcolor": "#E5ECF6",
            "gridcolor": "white",
            "gridwidth": 2,
            "linecolor": "white",
            "showbackground": true,
            "ticks": "",
            "zerolinecolor": "white"
           },
           "zaxis": {
            "backgroundcolor": "#E5ECF6",
            "gridcolor": "white",
            "gridwidth": 2,
            "linecolor": "white",
            "showbackground": true,
            "ticks": "",
            "zerolinecolor": "white"
           }
          },
          "shapedefaults": {
           "line": {
            "color": "#2a3f5f"
           }
          },
          "ternary": {
           "aaxis": {
            "gridcolor": "white",
            "linecolor": "white",
            "ticks": ""
           },
           "baxis": {
            "gridcolor": "white",
            "linecolor": "white",
            "ticks": ""
           },
           "bgcolor": "#E5ECF6",
           "caxis": {
            "gridcolor": "white",
            "linecolor": "white",
            "ticks": ""
           }
          },
          "title": {
           "x": 0.05
          },
          "xaxis": {
           "automargin": true,
           "gridcolor": "white",
           "linecolor": "white",
           "ticks": "",
           "title": {
            "standoff": 15
           },
           "zerolinecolor": "white",
           "zerolinewidth": 2
          },
          "yaxis": {
           "automargin": true,
           "gridcolor": "white",
           "linecolor": "white",
           "ticks": "",
           "title": {
            "standoff": 15
           },
           "zerolinecolor": "white",
           "zerolinewidth": 2
          }
         }
        },
        "title": {
         "text": "Fraudulent Transactions by Category"
        },
        "xaxis": {
         "anchor": "y",
         "domain": [
          0,
          1
         ],
         "tickangle": 45,
         "title": {
          "text": "Transaction Category"
         }
        },
        "yaxis": {
         "anchor": "x",
         "domain": [
          0,
          1
         ],
         "title": {
          "text": "Count"
         }
        }
       }
      },
      "text/html": [
       "<div>                            <div id=\"d06ef35f-70fd-4c16-9176-54bf45216d08\" class=\"plotly-graph-div\" style=\"height:525px; width:100%;\"></div>            <script type=\"text/javascript\">                require([\"plotly\"], function(Plotly) {                    window.PLOTLYENV=window.PLOTLYENV || {};                                    if (document.getElementById(\"d06ef35f-70fd-4c16-9176-54bf45216d08\")) {                    Plotly.newPlot(                        \"d06ef35f-70fd-4c16-9176-54bf45216d08\",                        [{\"alignmentgroup\": \"True\", \"bingroup\": \"x\", \"hovertemplate\": \"Fraud Indicator=0<br>Transaction Category=%{x}<br>count=%{y}<extra></extra>\", \"legendgroup\": \"0\", \"marker\": {\"color\": \"#636efa\"}, \"name\": \"0\", \"offsetgroup\": \"0\", \"orientation\": \"v\", \"showlegend\": true, \"type\": \"histogram\", \"x\": [\"Food\", \"Travel\", \"Other\", \"Other\", \"Other\", \"Travel\", \"Retail\", \"Other\", \"Other\", \"Online\", \"Retail\", \"Retail\", \"Other\", \"Retail\", \"Food\", \"Other\", \"Food\", \"Retail\", \"Retail\", \"Other\", \"Retail\", \"Food\", \"Online\", \"Retail\", \"Retail\", \"Travel\", \"Other\", \"Other\", \"Other\", \"Travel\", \"Online\", \"Travel\", \"Other\", \"Travel\", \"Online\", \"Other\", \"Online\", \"Travel\", \"Other\", \"Other\", \"Online\", \"Retail\", \"Retail\", \"Travel\", \"Travel\", \"Food\", \"Online\", \"Online\", \"Retail\", \"Other\", \"Food\", \"Retail\", \"Online\", \"Retail\", \"Food\", \"Travel\", \"Other\", \"Travel\", \"Travel\", \"Other\", \"Other\", \"Travel\", \"Travel\", \"Retail\", \"Retail\", \"Online\", \"Travel\", \"Other\", \"Retail\", \"Retail\", \"Food\", \"Food\", \"Food\", \"Food\", \"Online\", \"Travel\", \"Other\", \"Retail\", \"Online\", \"Food\", \"Retail\", \"Online\", \"Food\", \"Online\", \"Other\", \"Online\", \"Food\", \"Other\", \"Travel\", \"Online\", \"Travel\", \"Travel\", \"Other\", \"Online\", \"Online\", \"Retail\", \"Other\", \"Other\", \"Travel\", \"Retail\", \"Other\", \"Retail\", \"Travel\", \"Other\", \"Retail\", \"Online\", \"Retail\", \"Other\", \"Food\", \"Retail\", \"Travel\", \"Retail\", \"Other\", \"Travel\", \"Travel\", \"Online\", \"Food\", \"Travel\", \"Online\", \"Food\", \"Food\", \"Other\", \"Retail\", \"Travel\", \"Retail\", \"Food\", \"Travel\", \"Online\", \"Food\", \"Travel\", \"Retail\", \"Online\", \"Travel\", \"Retail\", \"Other\", \"Retail\", \"Online\", \"Other\", \"Other\", \"Other\", \"Online\", \"Other\", \"Other\", \"Retail\", \"Retail\", \"Travel\", \"Food\", \"Travel\", \"Online\", \"Food\", \"Food\", \"Other\", \"Online\", \"Other\", \"Travel\", \"Online\", \"Food\", \"Travel\", \"Food\", \"Food\", \"Travel\", \"Online\", \"Retail\", \"Retail\", \"Travel\", \"Food\", \"Online\", \"Food\", \"Travel\", \"Retail\", \"Other\", \"Travel\", \"Food\", \"Other\", \"Retail\", \"Retail\", \"Retail\", \"Retail\", \"Online\", \"Online\", \"Other\", \"Travel\", \"Other\", \"Other\", \"Online\", \"Food\", \"Other\", \"Travel\", \"Travel\", \"Food\", \"Food\", \"Online\", \"Online\", \"Online\", \"Food\", \"Other\", \"Online\", \"Online\", \"Food\", \"Food\", \"Retail\", \"Travel\", \"Online\", \"Food\", \"Travel\", \"Travel\", \"Retail\", \"Online\", \"Travel\", \"Food\", \"Food\", \"Food\", \"Online\", \"Other\", \"Other\", \"Retail\", \"Online\", \"Food\", \"Food\", \"Retail\", \"Travel\", \"Travel\", \"Food\", \"Travel\", \"Food\", \"Travel\", \"Online\", \"Other\", \"Other\", \"Online\", \"Food\", \"Food\", \"Travel\", \"Online\", \"Retail\", \"Online\", \"Food\", \"Food\", \"Food\", \"Travel\", \"Other\", \"Online\", \"Food\", \"Retail\", \"Retail\", \"Other\", \"Retail\", \"Online\", \"Travel\", \"Retail\", \"Retail\", \"Online\", \"Online\", \"Online\", \"Other\", \"Other\", \"Food\", \"Retail\", \"Retail\", \"Online\", \"Retail\", \"Online\", \"Travel\", \"Food\", \"Online\", \"Online\", \"Travel\", \"Retail\", \"Online\", \"Other\", \"Online\", \"Travel\", \"Online\", \"Travel\", \"Online\", \"Food\", \"Retail\", \"Retail\", \"Retail\", \"Other\", \"Travel\", \"Food\", \"Food\", \"Food\", \"Retail\", \"Online\", \"Food\", \"Food\", \"Online\", \"Food\", \"Other\", \"Food\", \"Food\", \"Food\", \"Food\", \"Other\", \"Food\", \"Food\", \"Retail\", \"Retail\", \"Other\", \"Food\", \"Other\", \"Food\", \"Retail\", \"Online\", \"Online\", \"Food\", \"Food\", \"Online\", \"Retail\", \"Travel\", \"Other\", \"Travel\", \"Retail\", \"Other\", \"Other\", \"Travel\", \"Online\", \"Retail\", \"Travel\", \"Food\", \"Other\", \"Retail\", \"Other\", \"Other\", \"Other\", \"Retail\", \"Other\", \"Other\", \"Other\", \"Food\", \"Online\", \"Travel\", \"Retail\", \"Online\", \"Other\", \"Other\", \"Retail\", \"Other\", \"Other\", \"Travel\", \"Retail\", \"Retail\", \"Travel\", \"Retail\", \"Online\", \"Food\", \"Retail\", \"Travel\", \"Other\", \"Other\", \"Online\", \"Food\", \"Travel\", \"Other\", \"Food\", \"Retail\", \"Other\", \"Online\", \"Online\", \"Food\", \"Food\", \"Online\", \"Retail\", \"Other\", \"Food\", \"Retail\", \"Food\", \"Online\", \"Retail\", \"Online\", \"Travel\", \"Travel\", \"Retail\", \"Travel\", \"Other\", \"Food\", \"Travel\", \"Food\", \"Travel\", \"Travel\", \"Other\", \"Travel\", \"Food\", \"Travel\", \"Travel\", \"Other\", \"Retail\", \"Food\", \"Retail\", \"Food\", \"Food\", \"Online\", \"Food\", \"Travel\", \"Online\", \"Online\", \"Retail\", \"Retail\", \"Food\", \"Online\", \"Travel\", \"Food\", \"Food\", \"Travel\", \"Retail\", \"Travel\", \"Other\", \"Other\", \"Other\", \"Retail\", \"Online\", \"Retail\", \"Food\", \"Online\", \"Online\", \"Travel\", \"Food\", \"Online\", \"Retail\", \"Travel\", \"Travel\", \"Other\", \"Food\", \"Travel\", \"Online\", \"Retail\", \"Other\", \"Food\", \"Food\", \"Travel\", \"Food\", \"Food\", \"Food\", \"Online\", \"Online\", \"Travel\", \"Food\", \"Travel\", \"Other\", \"Travel\", \"Retail\", \"Food\", \"Other\", \"Food\", \"Retail\", \"Online\", \"Online\", \"Online\", \"Other\", \"Food\", \"Other\", \"Food\", \"Travel\", \"Food\", \"Online\", \"Food\", \"Online\", \"Other\", \"Food\", \"Food\", \"Other\", \"Online\", \"Online\", \"Travel\", \"Online\", \"Retail\", \"Travel\", \"Travel\", \"Retail\", \"Other\", \"Online\", \"Travel\", \"Travel\", \"Online\", \"Online\", \"Other\", \"Travel\", \"Food\", \"Travel\", \"Retail\", \"Travel\", \"Other\", \"Retail\", \"Travel\", \"Other\", \"Other\", \"Retail\", \"Online\", \"Retail\", \"Retail\", \"Food\", \"Other\", \"Other\", \"Retail\", \"Other\", \"Travel\", \"Travel\", \"Other\", \"Travel\", \"Online\", \"Online\", \"Other\", \"Other\", \"Online\", \"Other\", \"Travel\", \"Online\", \"Online\", \"Food\", \"Food\", \"Travel\", \"Food\", \"Food\", \"Other\", \"Food\", \"Retail\", \"Food\", \"Food\", \"Food\", \"Online\", \"Retail\", \"Retail\", \"Food\", \"Retail\", \"Other\", \"Other\", \"Online\", \"Other\", \"Travel\", \"Travel\", \"Travel\", \"Online\", \"Online\", \"Retail\", \"Retail\", \"Food\", \"Online\", \"Online\", \"Travel\", \"Travel\", \"Retail\", \"Travel\", \"Retail\", \"Other\", \"Other\", \"Online\", \"Retail\", \"Online\", \"Food\", \"Travel\", \"Food\", \"Food\", \"Retail\", \"Other\", \"Travel\", \"Retail\", \"Retail\", \"Other\", \"Travel\", \"Travel\", \"Food\", \"Travel\", \"Online\", \"Retail\", \"Food\", \"Online\", \"Retail\", \"Online\", \"Retail\", \"Food\", \"Online\", \"Food\", \"Retail\", \"Travel\", \"Retail\", \"Travel\", \"Online\", \"Online\", \"Travel\", \"Retail\", \"Online\", \"Other\", \"Online\", \"Other\", \"Food\", \"Other\", \"Other\", \"Food\", \"Online\", \"Online\", \"Other\", \"Travel\", \"Retail\", \"Retail\", \"Online\", \"Travel\", \"Food\", \"Travel\", \"Online\", \"Travel\", \"Travel\", \"Online\", \"Retail\", \"Travel\", \"Other\", \"Other\", \"Online\", \"Food\", \"Travel\", \"Food\", \"Food\", \"Retail\", \"Travel\", \"Other\", \"Food\", \"Other\", \"Food\", \"Online\", \"Retail\", \"Food\", \"Food\", \"Other\", \"Food\", \"Retail\", \"Online\", \"Travel\", \"Retail\", \"Retail\", \"Other\", \"Online\", \"Retail\", \"Travel\", \"Food\", \"Retail\", \"Food\", \"Other\", \"Other\", \"Food\", \"Online\", \"Other\", \"Retail\", \"Other\", \"Travel\", \"Retail\", \"Food\", \"Travel\", \"Online\", \"Retail\", \"Other\", \"Online\", \"Travel\", \"Other\", \"Online\", \"Other\", \"Online\", \"Online\", \"Other\", \"Online\", \"Travel\", \"Food\", \"Travel\", \"Online\", \"Food\", \"Other\", \"Online\", \"Travel\", \"Other\", \"Retail\", \"Food\", \"Retail\", \"Travel\", \"Other\", \"Travel\", \"Retail\", \"Other\", \"Travel\", \"Food\", \"Food\", \"Travel\", \"Online\", \"Other\", \"Travel\", \"Online\", \"Retail\", \"Other\", \"Retail\", \"Food\", \"Travel\", \"Retail\", \"Food\", \"Retail\", \"Other\", \"Food\", \"Online\", \"Other\", \"Other\", \"Other\", \"Retail\", \"Other\", \"Online\", \"Travel\", \"Travel\", \"Online\", \"Other\", \"Travel\", \"Travel\", \"Online\", \"Other\", \"Food\", \"Food\", \"Retail\", \"Other\", \"Food\", \"Online\", \"Other\", \"Food\", \"Other\", \"Travel\", \"Travel\", \"Retail\", \"Other\", \"Other\", \"Retail\", \"Food\", \"Other\", \"Online\", \"Food\", \"Travel\", \"Food\", \"Retail\", \"Food\", \"Food\", \"Other\", \"Other\", \"Online\", \"Travel\", \"Online\", \"Travel\", \"Online\", \"Other\", \"Retail\", \"Travel\", \"Retail\", \"Food\", \"Other\", \"Online\", \"Travel\", \"Online\", \"Other\", \"Online\", \"Online\", \"Online\", \"Food\", \"Travel\", \"Food\", \"Online\", \"Other\", \"Other\", \"Travel\", \"Retail\", \"Food\", \"Travel\", \"Online\", \"Online\", \"Travel\", \"Travel\", \"Travel\", \"Online\", \"Food\", \"Other\", \"Online\", \"Other\", \"Other\", \"Food\", \"Online\", \"Retail\", \"Travel\", \"Food\", \"Other\", \"Other\", \"Food\", \"Retail\", \"Retail\", \"Food\", \"Other\", \"Other\", \"Retail\", \"Online\", \"Online\", \"Retail\", \"Food\", \"Retail\", \"Travel\", \"Retail\", \"Travel\", \"Retail\", \"Other\", \"Other\", \"Travel\", \"Online\", \"Food\", \"Food\", \"Other\", \"Retail\", \"Online\", \"Other\", \"Retail\", \"Online\", \"Retail\", \"Retail\", \"Food\", \"Food\", \"Online\", \"Retail\", \"Food\", \"Online\", \"Travel\", \"Food\", \"Food\", \"Retail\", \"Online\", \"Travel\", \"Other\", \"Other\", \"Travel\", \"Travel\", \"Travel\", \"Travel\", \"Online\", \"Online\", \"Food\", \"Online\", \"Retail\", \"Food\", \"Online\", \"Retail\", \"Online\", \"Retail\", \"Travel\", \"Food\", \"Online\", \"Travel\", \"Other\", \"Retail\", \"Travel\", \"Online\", \"Other\", \"Retail\", \"Other\", \"Food\", \"Other\", \"Food\", \"Retail\", \"Retail\", \"Other\", \"Food\", \"Food\", \"Other\", \"Other\", \"Other\", \"Travel\", \"Travel\", \"Travel\", \"Other\", \"Travel\", \"Retail\", \"Travel\", \"Retail\", \"Retail\", \"Other\", \"Food\", \"Food\", \"Other\", \"Other\", \"Online\", \"Food\", \"Food\", \"Retail\", \"Other\", \"Travel\", \"Retail\", \"Food\", \"Travel\", \"Online\", \"Food\", \"Travel\", \"Travel\", \"Travel\", \"Other\", \"Other\", \"Online\", \"Retail\", \"Online\", \"Travel\", \"Other\", \"Food\", \"Food\", \"Online\", \"Other\", \"Food\", \"Retail\", \"Other\", \"Travel\", \"Retail\", \"Online\", \"Retail\", \"Other\", \"Retail\", \"Retail\", \"Other\", \"Retail\", \"Travel\", \"Other\", \"Travel\", \"Travel\", \"Food\", \"Travel\", \"Online\", \"Retail\", \"Travel\", \"Retail\", \"Food\", \"Food\", \"Retail\", \"Online\", \"Other\", \"Other\", \"Online\", \"Other\", \"Other\", \"Other\", \"Other\", \"Retail\", \"Food\", \"Food\", \"Other\", \"Travel\", \"Online\", \"Travel\", \"Online\", \"Travel\", \"Retail\", \"Travel\", \"Retail\", \"Online\", \"Travel\", \"Online\", \"Travel\", \"Retail\", \"Food\", \"Food\", \"Travel\", \"Other\"], \"xaxis\": \"x\", \"yaxis\": \"y\"}, {\"alignmentgroup\": \"True\", \"bingroup\": \"x\", \"hovertemplate\": \"Fraud Indicator=1<br>Transaction Category=%{x}<br>count=%{y}<extra></extra>\", \"legendgroup\": \"1\", \"marker\": {\"color\": \"#EF553B\"}, \"name\": \"1\", \"offsetgroup\": \"1\", \"orientation\": \"v\", \"showlegend\": true, \"type\": \"histogram\", \"x\": [\"Travel\", \"Online\", \"Food\", \"Online\", \"Retail\", \"Food\", \"Food\", \"Food\", \"Retail\", \"Online\", \"Online\", \"Other\", \"Retail\", \"Retail\", \"Travel\", \"Other\", \"Other\", \"Online\", \"Other\", \"Food\", \"Other\", \"Travel\", \"Retail\", \"Travel\", \"Food\", \"Food\", \"Retail\", \"Retail\", \"Food\", \"Other\", \"Retail\", \"Other\", \"Online\", \"Other\", \"Retail\", \"Other\", \"Online\", \"Online\", \"Food\", \"Online\", \"Travel\", \"Other\", \"Travel\", \"Online\", \"Travel\"], \"xaxis\": \"x\", \"yaxis\": \"y\"}],                        {\"barmode\": \"group\", \"legend\": {\"title\": {\"text\": \"Fraud Indicator\"}, \"tracegroupgap\": 0}, \"showlegend\": true, \"template\": {\"data\": {\"bar\": [{\"error_x\": {\"color\": \"#2a3f5f\"}, \"error_y\": {\"color\": \"#2a3f5f\"}, \"marker\": {\"line\": {\"color\": \"#E5ECF6\", \"width\": 0.5}}, \"type\": \"bar\"}], \"barpolar\": [{\"marker\": {\"line\": {\"color\": \"#E5ECF6\", \"width\": 0.5}}, \"type\": \"barpolar\"}], \"carpet\": [{\"aaxis\": {\"endlinecolor\": \"#2a3f5f\", \"gridcolor\": \"white\", \"linecolor\": \"white\", \"minorgridcolor\": \"white\", \"startlinecolor\": \"#2a3f5f\"}, \"baxis\": {\"endlinecolor\": \"#2a3f5f\", \"gridcolor\": \"white\", \"linecolor\": \"white\", \"minorgridcolor\": \"white\", \"startlinecolor\": \"#2a3f5f\"}, \"type\": \"carpet\"}], \"choropleth\": [{\"colorbar\": {\"outlinewidth\": 0, \"ticks\": \"\"}, \"type\": \"choropleth\"}], \"contour\": [{\"colorbar\": {\"outlinewidth\": 0, \"ticks\": \"\"}, \"colorscale\": [[0.0, \"#0d0887\"], [0.1111111111111111, \"#46039f\"], [0.2222222222222222, \"#7201a8\"], [0.3333333333333333, \"#9c179e\"], [0.4444444444444444, \"#bd3786\"], [0.5555555555555556, \"#d8576b\"], [0.6666666666666666, \"#ed7953\"], [0.7777777777777778, \"#fb9f3a\"], [0.8888888888888888, \"#fdca26\"], [1.0, \"#f0f921\"]], \"type\": \"contour\"}], \"contourcarpet\": [{\"colorbar\": {\"outlinewidth\": 0, \"ticks\": \"\"}, \"type\": \"contourcarpet\"}], \"heatmap\": [{\"colorbar\": {\"outlinewidth\": 0, \"ticks\": \"\"}, \"colorscale\": [[0.0, \"#0d0887\"], [0.1111111111111111, \"#46039f\"], [0.2222222222222222, \"#7201a8\"], [0.3333333333333333, \"#9c179e\"], [0.4444444444444444, \"#bd3786\"], [0.5555555555555556, \"#d8576b\"], [0.6666666666666666, \"#ed7953\"], [0.7777777777777778, \"#fb9f3a\"], [0.8888888888888888, \"#fdca26\"], [1.0, \"#f0f921\"]], \"type\": \"heatmap\"}], \"heatmapgl\": [{\"colorbar\": {\"outlinewidth\": 0, \"ticks\": \"\"}, \"colorscale\": [[0.0, \"#0d0887\"], [0.1111111111111111, \"#46039f\"], [0.2222222222222222, \"#7201a8\"], [0.3333333333333333, \"#9c179e\"], [0.4444444444444444, \"#bd3786\"], [0.5555555555555556, \"#d8576b\"], [0.6666666666666666, \"#ed7953\"], [0.7777777777777778, \"#fb9f3a\"], [0.8888888888888888, \"#fdca26\"], [1.0, \"#f0f921\"]], \"type\": \"heatmapgl\"}], \"histogram\": [{\"marker\": {\"colorbar\": {\"outlinewidth\": 0, \"ticks\": \"\"}}, \"type\": \"histogram\"}], \"histogram2d\": [{\"colorbar\": {\"outlinewidth\": 0, \"ticks\": \"\"}, \"colorscale\": [[0.0, \"#0d0887\"], [0.1111111111111111, \"#46039f\"], [0.2222222222222222, \"#7201a8\"], [0.3333333333333333, \"#9c179e\"], [0.4444444444444444, \"#bd3786\"], [0.5555555555555556, \"#d8576b\"], [0.6666666666666666, \"#ed7953\"], [0.7777777777777778, \"#fb9f3a\"], [0.8888888888888888, \"#fdca26\"], [1.0, \"#f0f921\"]], \"type\": \"histogram2d\"}], \"histogram2dcontour\": [{\"colorbar\": {\"outlinewidth\": 0, \"ticks\": \"\"}, \"colorscale\": [[0.0, \"#0d0887\"], [0.1111111111111111, \"#46039f\"], [0.2222222222222222, \"#7201a8\"], [0.3333333333333333, \"#9c179e\"], [0.4444444444444444, \"#bd3786\"], [0.5555555555555556, \"#d8576b\"], [0.6666666666666666, \"#ed7953\"], [0.7777777777777778, \"#fb9f3a\"], [0.8888888888888888, \"#fdca26\"], [1.0, \"#f0f921\"]], \"type\": \"histogram2dcontour\"}], \"mesh3d\": [{\"colorbar\": {\"outlinewidth\": 0, \"ticks\": \"\"}, \"type\": \"mesh3d\"}], \"parcoords\": [{\"line\": {\"colorbar\": {\"outlinewidth\": 0, \"ticks\": \"\"}}, \"type\": \"parcoords\"}], \"pie\": [{\"automargin\": true, \"type\": \"pie\"}], \"scatter\": [{\"marker\": {\"colorbar\": {\"outlinewidth\": 0, \"ticks\": \"\"}}, \"type\": \"scatter\"}], \"scatter3d\": [{\"line\": {\"colorbar\": {\"outlinewidth\": 0, \"ticks\": \"\"}}, \"marker\": {\"colorbar\": {\"outlinewidth\": 0, \"ticks\": \"\"}}, \"type\": \"scatter3d\"}], \"scattercarpet\": [{\"marker\": {\"colorbar\": {\"outlinewidth\": 0, \"ticks\": \"\"}}, \"type\": \"scattercarpet\"}], \"scattergeo\": [{\"marker\": {\"colorbar\": {\"outlinewidth\": 0, \"ticks\": \"\"}}, \"type\": \"scattergeo\"}], \"scattergl\": [{\"marker\": {\"colorbar\": {\"outlinewidth\": 0, \"ticks\": \"\"}}, \"type\": \"scattergl\"}], \"scattermapbox\": [{\"marker\": {\"colorbar\": {\"outlinewidth\": 0, \"ticks\": \"\"}}, \"type\": \"scattermapbox\"}], \"scatterpolar\": [{\"marker\": {\"colorbar\": {\"outlinewidth\": 0, \"ticks\": \"\"}}, \"type\": \"scatterpolar\"}], \"scatterpolargl\": [{\"marker\": {\"colorbar\": {\"outlinewidth\": 0, \"ticks\": \"\"}}, \"type\": \"scatterpolargl\"}], \"scatterternary\": [{\"marker\": {\"colorbar\": {\"outlinewidth\": 0, \"ticks\": \"\"}}, \"type\": \"scatterternary\"}], \"surface\": [{\"colorbar\": {\"outlinewidth\": 0, \"ticks\": \"\"}, \"colorscale\": [[0.0, \"#0d0887\"], [0.1111111111111111, \"#46039f\"], [0.2222222222222222, \"#7201a8\"], [0.3333333333333333, \"#9c179e\"], [0.4444444444444444, \"#bd3786\"], [0.5555555555555556, \"#d8576b\"], [0.6666666666666666, \"#ed7953\"], [0.7777777777777778, \"#fb9f3a\"], [0.8888888888888888, \"#fdca26\"], [1.0, \"#f0f921\"]], \"type\": \"surface\"}], \"table\": [{\"cells\": {\"fill\": {\"color\": \"#EBF0F8\"}, \"line\": {\"color\": \"white\"}}, \"header\": {\"fill\": {\"color\": \"#C8D4E3\"}, \"line\": {\"color\": \"white\"}}, \"type\": \"table\"}]}, \"layout\": {\"annotationdefaults\": {\"arrowcolor\": \"#2a3f5f\", \"arrowhead\": 0, \"arrowwidth\": 1}, \"coloraxis\": {\"colorbar\": {\"outlinewidth\": 0, \"ticks\": \"\"}}, \"colorscale\": {\"diverging\": [[0, \"#8e0152\"], [0.1, \"#c51b7d\"], [0.2, \"#de77ae\"], [0.3, \"#f1b6da\"], [0.4, \"#fde0ef\"], [0.5, \"#f7f7f7\"], [0.6, \"#e6f5d0\"], [0.7, \"#b8e186\"], [0.8, \"#7fbc41\"], [0.9, \"#4d9221\"], [1, \"#276419\"]], \"sequential\": [[0.0, \"#0d0887\"], [0.1111111111111111, \"#46039f\"], [0.2222222222222222, \"#7201a8\"], [0.3333333333333333, \"#9c179e\"], [0.4444444444444444, \"#bd3786\"], [0.5555555555555556, \"#d8576b\"], [0.6666666666666666, \"#ed7953\"], [0.7777777777777778, \"#fb9f3a\"], [0.8888888888888888, \"#fdca26\"], [1.0, \"#f0f921\"]], \"sequentialminus\": [[0.0, \"#0d0887\"], [0.1111111111111111, \"#46039f\"], [0.2222222222222222, \"#7201a8\"], [0.3333333333333333, \"#9c179e\"], [0.4444444444444444, \"#bd3786\"], [0.5555555555555556, \"#d8576b\"], [0.6666666666666666, \"#ed7953\"], [0.7777777777777778, \"#fb9f3a\"], [0.8888888888888888, \"#fdca26\"], [1.0, \"#f0f921\"]]}, \"colorway\": [\"#636efa\", \"#EF553B\", \"#00cc96\", \"#ab63fa\", \"#FFA15A\", \"#19d3f3\", \"#FF6692\", \"#B6E880\", \"#FF97FF\", \"#FECB52\"], \"font\": {\"color\": \"#2a3f5f\"}, \"geo\": {\"bgcolor\": \"white\", \"lakecolor\": \"white\", \"landcolor\": \"#E5ECF6\", \"showlakes\": true, \"showland\": true, \"subunitcolor\": \"white\"}, \"hoverlabel\": {\"align\": \"left\"}, \"hovermode\": \"closest\", \"mapbox\": {\"style\": \"light\"}, \"paper_bgcolor\": \"white\", \"plot_bgcolor\": \"#E5ECF6\", \"polar\": {\"angularaxis\": {\"gridcolor\": \"white\", \"linecolor\": \"white\", \"ticks\": \"\"}, \"bgcolor\": \"#E5ECF6\", \"radialaxis\": {\"gridcolor\": \"white\", \"linecolor\": \"white\", \"ticks\": \"\"}}, \"scene\": {\"xaxis\": {\"backgroundcolor\": \"#E5ECF6\", \"gridcolor\": \"white\", \"gridwidth\": 2, \"linecolor\": \"white\", \"showbackground\": true, \"ticks\": \"\", \"zerolinecolor\": \"white\"}, \"yaxis\": {\"backgroundcolor\": \"#E5ECF6\", \"gridcolor\": \"white\", \"gridwidth\": 2, \"linecolor\": \"white\", \"showbackground\": true, \"ticks\": \"\", \"zerolinecolor\": \"white\"}, \"zaxis\": {\"backgroundcolor\": \"#E5ECF6\", \"gridcolor\": \"white\", \"gridwidth\": 2, \"linecolor\": \"white\", \"showbackground\": true, \"ticks\": \"\", \"zerolinecolor\": \"white\"}}, \"shapedefaults\": {\"line\": {\"color\": \"#2a3f5f\"}}, \"ternary\": {\"aaxis\": {\"gridcolor\": \"white\", \"linecolor\": \"white\", \"ticks\": \"\"}, \"baxis\": {\"gridcolor\": \"white\", \"linecolor\": \"white\", \"ticks\": \"\"}, \"bgcolor\": \"#E5ECF6\", \"caxis\": {\"gridcolor\": \"white\", \"linecolor\": \"white\", \"ticks\": \"\"}}, \"title\": {\"x\": 0.05}, \"xaxis\": {\"automargin\": true, \"gridcolor\": \"white\", \"linecolor\": \"white\", \"ticks\": \"\", \"title\": {\"standoff\": 15}, \"zerolinecolor\": \"white\", \"zerolinewidth\": 2}, \"yaxis\": {\"automargin\": true, \"gridcolor\": \"white\", \"linecolor\": \"white\", \"ticks\": \"\", \"title\": {\"standoff\": 15}, \"zerolinecolor\": \"white\", \"zerolinewidth\": 2}}}, \"title\": {\"text\": \"Fraudulent Transactions by Category\"}, \"xaxis\": {\"anchor\": \"y\", \"domain\": [0.0, 1.0], \"tickangle\": 45, \"title\": {\"text\": \"Transaction Category\"}}, \"yaxis\": {\"anchor\": \"x\", \"domain\": [0.0, 1.0], \"title\": {\"text\": \"Count\"}}},                        {\"responsive\": true}                    ).then(function(){\n",
       "                            \n",
       "var gd = document.getElementById('d06ef35f-70fd-4c16-9176-54bf45216d08');\n",
       "var x = new MutationObserver(function (mutations, observer) {{\n",
       "        var display = window.getComputedStyle(gd).display;\n",
       "        if (!display || display === 'none') {{\n",
       "            console.log([gd, 'removed!']);\n",
       "            Plotly.purge(gd);\n",
       "            observer.disconnect();\n",
       "        }}\n",
       "}});\n",
       "\n",
       "// Listen for the removal of the full notebook cells\n",
       "var notebookContainer = gd.closest('#notebook-container');\n",
       "if (notebookContainer) {{\n",
       "    x.observe(notebookContainer, {childList: true});\n",
       "}}\n",
       "\n",
       "// Listen for the clearing of the current output cell\n",
       "var outputEl = gd.closest('.output');\n",
       "if (outputEl) {{\n",
       "    x.observe(outputEl, {childList: true});\n",
       "}}\n",
       "\n",
       "                        })                };                });            </script>        </div>"
      ]
     },
     "metadata": {},
     "output_type": "display_data"
    }
   ],
   "source": [
    "fig = px.histogram(\n",
    "    data_frame=data,\n",
    "    x='Category',\n",
    "    color='FraudIndicator',  \n",
    "    barmode='group',         \n",
    "    title='Fraudulent Transactions by Category',\n",
    "    labels={'Category': 'Transaction Category', 'count': 'Count', 'FraudIndicator': 'Fraud Indicator'}\n",
    ")\n",
    "fig.update_layout(\n",
    "    xaxis_title='Transaction Category',\n",
    "    yaxis_title='Count',\n",
    "    xaxis_tickangle=45,   \n",
    "    showlegend=True\n",
    ")\n",
    "fig.show()"
   ]
  },
  {
   "cell_type": "markdown",
   "metadata": {},
   "source": [
    "### Violin Plot of Age by FraudIndicator"
   ]
  },
  {
   "cell_type": "code",
   "execution_count": 68,
   "metadata": {},
   "outputs": [
    {
     "data": {
      "image/png": "[encoded data removed]",
      "text/plain": [
       "<Figure size 576x432 with 1 Axes>"
      ]
     },
     "metadata": {
      "needs_background": "light"
     },
     "output_type": "display_data"
    }
   ],
   "source": [
    "plt.figure(figsize=(8, 6))\n",
    "sns.violinplot(x='FraudIndicator', y='Age', data=data)\n",
    "plt.title('Age Distribution by Fraud Indicator')\n",
    "plt.xlabel('Fraud Indicator')\n",
    "plt.ylabel('Age')\n",
    "plt.show()"
   ]
  },
  {
   "cell_type": "markdown",
   "metadata": {},
   "source": [
    "### Bar Plot of Fraudulent Transactions by Top Merchants"
   ]
  },
  {
   "cell_type": "code",
   "execution_count": 69,
   "metadata": {},
   "outputs": [
    {
     "data": {
      "image/png": "[encoded data removed]",
      "text/plain": [
       "<Figure size 864x432 with 1 Axes>"
      ]
     },
     "metadata": {
      "needs_background": "light"
     },
     "output_type": "display_data"
    }
   ],
   "source": [
    "top_merchants = data[data['FraudIndicator'] == 1]['MerchantID'].value_counts().head(10).index\n",
    "df_top_merchants = data[data['MerchantID'].isin(top_merchants)]\n",
    "\n",
    "plt.figure(figsize=(12, 6))\n",
    "sns.countplot(x='MerchantID', hue='FraudIndicator', data=df_top_merchants)\n",
    "plt.title('Fraudulent Transactions for Top 10 Merchants')\n",
    "plt.xlabel('Merchant ID')\n",
    "plt.ylabel('Count')\n",
    "plt.xticks(rotation=45)\n",
    "plt.show()"
   ]
  },
  {
   "cell_type": "markdown",
   "metadata": {},
   "source": [
    "### Correlation Heatmap\n",
    "\n"
   ]
  },
  {
   "cell_type": "code",
   "execution_count": 73,
   "metadata": {},
   "outputs": [
    {
     "data": {
      "image/png": "[encoded data removed]",
      "text/plain": [
       "<Figure size 720x576 with 2 Axes>"
      ]
     },
     "metadata": {
      "needs_background": "light"
     },
     "output_type": "display_data"
    }
   ],
   "source": [
    "plt.figure(figsize=(10, 8))\n",
    "correlation_matrix = data[['Age', 'TransactionAmount', 'SuspiciousFlag','Amount','AccountBalance', 'AnomalyScore', 'FraudIndicator']].corr()\n",
    "sns.heatmap(correlation_matrix, annot=True, cmap='coolwarm', vmin=-1, vmax=1)\n",
    "plt.title('Correlation Heatmap of Numerical Features')\n",
    "plt.show()"
   ]
  },
  {
   "cell_type": "code",
   "execution_count": null,
   "metadata": {},
   "outputs": [],
   "source": []
  }
 ],
 "metadata": {
  "kernelspec": {
   "display_name": "Python(learn-env)",
   "language": "python",
   "name": "learn-env"
  },
  "language_info": {
   "codemirror_mode": {
    "name": "ipython",
    "version": 3
   },
   "file_extension": ".py",
   "mimetype": "text/x-python",
   "name": "python",
   "nbconvert_exporter": "python",
   "pygments_lexer": "ipython3",
   "version": "3.8.5"
  }
 },
 "nbformat": 4,
 "nbformat_minor": 4
}
